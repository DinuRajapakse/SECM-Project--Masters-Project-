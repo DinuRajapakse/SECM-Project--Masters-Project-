{
 "cells": [
  {
   "cell_type": "markdown",
   "metadata": {},
   "source": [
    "# Importing needed libraries/packages"
   ]
  },
  {
   "cell_type": "code",
   "execution_count": 1,
   "metadata": {},
   "outputs": [
    {
     "name": "stdout",
     "output_type": "stream",
     "text": [
      "2.0.0\n"
     ]
    }
   ],
   "source": [
    "from numpy.random import seed\n",
    "seed(1)\n",
    "\n",
    "import pandas as pd\n",
    "import tensorflow as tf\n",
    "\n",
    "tf.random.set_seed(2)\n",
    "\n",
    "from tensorflow import keras\n",
    "from tensorflow.keras import layers\n",
    "from tensorflow.keras import Model\n",
    "import numpy as np\n",
    "import matplotlib.pyplot as plt\n",
    "print(tf.__version__)\n"
   ]
  },
  {
   "cell_type": "code",
   "execution_count": 2,
   "metadata": {},
   "outputs": [],
   "source": [
    "from scipy.interpolate import interp1d\n",
    "from sklearn.metrics import mean_squared_error\n",
    "import glob, os, csv\n",
    "from pathlib import Path\n",
    "from matplotlib import rc"
   ]
  },
  {
   "cell_type": "markdown",
   "metadata": {},
   "source": [
    "# Importing the data set and creating the columns of the data set for the model"
   ]
  },
  {
   "cell_type": "code",
   "execution_count": 3,
   "metadata": {},
   "outputs": [
    {
     "name": "stdout",
     "output_type": "stream",
     "text": [
      "['k', 'x0', 'x1', 'x2', 'x3', 'x4', 'x5', 'x6', 'x7', 'x8', 'x9', 'x10', 'x11', 'x12', 'x13', 'x14', 'x15', 'x16', 'x17', 'x18', 'x19', 'x20', 'x21', 'x22', 'x23', 'x24', 'x25', 'x26', 'x27', 'x28', 'x29', 'x30', 'x31', 'x32', 'x33', 'x34', 'x35', 'x36', 'x37', 'x38', 'x39', 'x40', 'x41', 'x42', 'x43', 'x44', 'x45', 'x46', 'x47', 'x48', 'x49', 'x50', 'x51', 'x52', 'x53', 'x54', 'x55', 'x56', 'x57', 'x58', 'x59', 'x60', 'x61', 'x62', 'x63', 'x64', 'x65', 'x66', 'x67', 'x68', 'x69', 'x70', 'x71', 'x72', 'x73', 'x74', 'x75', 'x76', 'x77', 'x78', 'x79', 'x80', 'x81', 'x82', 'x83', 'x84', 'x85', 'x86', 'x87', 'x88', 'x89', 'x90', 'x91', 'x92', 'x93', 'x94', 'x95', 'x96', 'x97', 'x98', 'x99', 'x100', 'x101', 'x102', 'x103', 'x104', 'x105', 'x106', 'x107', 'x108', 'x109', 'x110', 'x111', 'x112', 'x113', 'x114', 'x115', 'x116', 'x117', 'x118', 'x119', 'x120', 'x121', 'x122', 'x123', 'x124', 'x125', 'x126', 'x127', 'x128', 'x129', 'x130', 'x131', 'x132', 'x133', 'x134', 'x135', 'x136', 'x137', 'x138', 'x139', 'x140', 'x141', 'x142', 'x143', 'x144', 'x145', 'x146', 'x147', 'x148']\n",
      "\n",
      " 2250\n"
     ]
    },
    {
     "data": {
      "text/html": [
       "<div>\n",
       "<style scoped>\n",
       "    .dataframe tbody tr th:only-of-type {\n",
       "        vertical-align: middle;\n",
       "    }\n",
       "\n",
       "    .dataframe tbody tr th {\n",
       "        vertical-align: top;\n",
       "    }\n",
       "\n",
       "    .dataframe thead th {\n",
       "        text-align: right;\n",
       "    }\n",
       "</style>\n",
       "<table border=\"1\" class=\"dataframe\">\n",
       "  <thead>\n",
       "    <tr style=\"text-align: right;\">\n",
       "      <th></th>\n",
       "      <th>h</th>\n",
       "      <th>c</th>\n",
       "      <th>klog</th>\n",
       "      <th>f</th>\n",
       "      <th>d</th>\n",
       "      <th>k_</th>\n",
       "      <th>slope</th>\n",
       "    </tr>\n",
       "  </thead>\n",
       "  <tbody>\n",
       "    <tr>\n",
       "      <th>0</th>\n",
       "      <td>1.056000</td>\n",
       "      <td>0.923537</td>\n",
       "      <td>-5.511511</td>\n",
       "      <td>0.000528</td>\n",
       "      <td>0.009472</td>\n",
       "      <td>0.004040</td>\n",
       "      <td>1.314991e-01</td>\n",
       "    </tr>\n",
       "    <tr>\n",
       "      <th>1</th>\n",
       "      <td>1.183141</td>\n",
       "      <td>0.940256</td>\n",
       "      <td>-5.511511</td>\n",
       "      <td>0.000528</td>\n",
       "      <td>0.009472</td>\n",
       "      <td>0.004040</td>\n",
       "      <td>1.056100e-01</td>\n",
       "    </tr>\n",
       "    <tr>\n",
       "      <th>2</th>\n",
       "      <td>1.310282</td>\n",
       "      <td>0.953683</td>\n",
       "      <td>-5.511511</td>\n",
       "      <td>0.000528</td>\n",
       "      <td>0.009472</td>\n",
       "      <td>0.004040</td>\n",
       "      <td>8.563298e-02</td>\n",
       "    </tr>\n",
       "    <tr>\n",
       "      <th>3</th>\n",
       "      <td>1.437423</td>\n",
       "      <td>0.964571</td>\n",
       "      <td>-5.511511</td>\n",
       "      <td>0.000528</td>\n",
       "      <td>0.009472</td>\n",
       "      <td>0.004040</td>\n",
       "      <td>7.002083e-02</td>\n",
       "    </tr>\n",
       "    <tr>\n",
       "      <th>4</th>\n",
       "      <td>1.564564</td>\n",
       "      <td>0.973473</td>\n",
       "      <td>-5.511511</td>\n",
       "      <td>0.000528</td>\n",
       "      <td>0.009472</td>\n",
       "      <td>0.004040</td>\n",
       "      <td>5.768093e-02</td>\n",
       "    </tr>\n",
       "    <tr>\n",
       "      <th>...</th>\n",
       "      <td>...</td>\n",
       "      <td>...</td>\n",
       "      <td>...</td>\n",
       "      <td>...</td>\n",
       "      <td>...</td>\n",
       "      <td>...</td>\n",
       "      <td>...</td>\n",
       "    </tr>\n",
       "    <tr>\n",
       "      <th>335245</th>\n",
       "      <td>19.333154</td>\n",
       "      <td>1.004650</td>\n",
       "      <td>-6.978178</td>\n",
       "      <td>0.000064</td>\n",
       "      <td>0.009936</td>\n",
       "      <td>0.000932</td>\n",
       "      <td>8.080000e-06</td>\n",
       "    </tr>\n",
       "    <tr>\n",
       "      <th>335246</th>\n",
       "      <td>19.466523</td>\n",
       "      <td>1.004651</td>\n",
       "      <td>-6.978178</td>\n",
       "      <td>0.000064</td>\n",
       "      <td>0.009936</td>\n",
       "      <td>0.000932</td>\n",
       "      <td>5.810000e-06</td>\n",
       "    </tr>\n",
       "    <tr>\n",
       "      <th>335247</th>\n",
       "      <td>19.599893</td>\n",
       "      <td>1.004651</td>\n",
       "      <td>-6.978178</td>\n",
       "      <td>0.000064</td>\n",
       "      <td>0.009936</td>\n",
       "      <td>0.000932</td>\n",
       "      <td>3.640000e-06</td>\n",
       "    </tr>\n",
       "    <tr>\n",
       "      <th>335248</th>\n",
       "      <td>19.733262</td>\n",
       "      <td>1.004652</td>\n",
       "      <td>-6.978178</td>\n",
       "      <td>0.000064</td>\n",
       "      <td>0.009936</td>\n",
       "      <td>0.000932</td>\n",
       "      <td>1.520000e-06</td>\n",
       "    </tr>\n",
       "    <tr>\n",
       "      <th>335249</th>\n",
       "      <td>19.866631</td>\n",
       "      <td>1.004652</td>\n",
       "      <td>-6.978178</td>\n",
       "      <td>0.000064</td>\n",
       "      <td>0.009936</td>\n",
       "      <td>0.000932</td>\n",
       "      <td>-5.170000e-07</td>\n",
       "    </tr>\n",
       "  </tbody>\n",
       "</table>\n",
       "<p>335250 rows × 7 columns</p>\n",
       "</div>"
      ],
      "text/plain": [
       "                h         c      klog         f         d        k_  \\\n",
       "0        1.056000  0.923537 -5.511511  0.000528  0.009472  0.004040   \n",
       "1        1.183141  0.940256 -5.511511  0.000528  0.009472  0.004040   \n",
       "2        1.310282  0.953683 -5.511511  0.000528  0.009472  0.004040   \n",
       "3        1.437423  0.964571 -5.511511  0.000528  0.009472  0.004040   \n",
       "4        1.564564  0.973473 -5.511511  0.000528  0.009472  0.004040   \n",
       "...           ...       ...       ...       ...       ...       ...   \n",
       "335245  19.333154  1.004650 -6.978178  0.000064  0.009936  0.000932   \n",
       "335246  19.466523  1.004651 -6.978178  0.000064  0.009936  0.000932   \n",
       "335247  19.599893  1.004651 -6.978178  0.000064  0.009936  0.000932   \n",
       "335248  19.733262  1.004652 -6.978178  0.000064  0.009936  0.000932   \n",
       "335249  19.866631  1.004652 -6.978178  0.000064  0.009936  0.000932   \n",
       "\n",
       "               slope  \n",
       "0       1.314991e-01  \n",
       "1       1.056100e-01  \n",
       "2       8.563298e-02  \n",
       "3       7.002083e-02  \n",
       "4       5.768093e-02  \n",
       "...              ...  \n",
       "335245  8.080000e-06  \n",
       "335246  5.810000e-06  \n",
       "335247  3.640000e-06  \n",
       "335248  1.520000e-06  \n",
       "335249 -5.170000e-07  \n",
       "\n",
       "[335250 rows x 7 columns]"
      ]
     },
     "execution_count": 3,
     "metadata": {},
     "output_type": "execute_result"
    }
   ],
   "source": [
    "# df = pd.read_csv('UDS3_v2.csv')\n",
    "df = pd.read_csv('UDS5 (slope csv)(No 20s).csv')\n",
    "\n",
    "# creating the columns of the formatted data set (149 columns (slope not current))\n",
    "column_string = 'k, '\n",
    "\n",
    "for x in range(149):\n",
    "    column_string += 'x'+str(x)+', '\n",
    "column_string = column_string[:-2]\n",
    "column_names = column_string.split(', ')\n",
    "\n",
    "print(column_names)\n",
    "\n",
    "# adding all unique k values from the imported dataset to a list\n",
    "k_values=df.k_.unique()\n",
    "print('\\n',len(k_values))\n",
    "\n",
    "df"
   ]
  },
  {
   "cell_type": "markdown",
   "metadata": {},
   "source": [
    "# Creating the dataframe \n",
    "### This dataframe will be the input for the model"
   ]
  },
  {
   "cell_type": "code",
   "execution_count": 4,
   "metadata": {},
   "outputs": [
    {
     "name": "stdout",
     "output_type": "stream",
     "text": [
      "\n",
      " 2250\n"
     ]
    },
    {
     "data": {
      "text/html": [
       "<div>\n",
       "<style scoped>\n",
       "    .dataframe tbody tr th:only-of-type {\n",
       "        vertical-align: middle;\n",
       "    }\n",
       "\n",
       "    .dataframe tbody tr th {\n",
       "        vertical-align: top;\n",
       "    }\n",
       "\n",
       "    .dataframe thead th {\n",
       "        text-align: right;\n",
       "    }\n",
       "</style>\n",
       "<table border=\"1\" class=\"dataframe\">\n",
       "  <thead>\n",
       "    <tr style=\"text-align: right;\">\n",
       "      <th></th>\n",
       "      <th>k</th>\n",
       "      <th>x0</th>\n",
       "      <th>x1</th>\n",
       "      <th>x2</th>\n",
       "      <th>x3</th>\n",
       "      <th>x4</th>\n",
       "      <th>x5</th>\n",
       "      <th>x6</th>\n",
       "      <th>x7</th>\n",
       "      <th>x8</th>\n",
       "      <th>...</th>\n",
       "      <th>x139</th>\n",
       "      <th>x140</th>\n",
       "      <th>x141</th>\n",
       "      <th>x142</th>\n",
       "      <th>x143</th>\n",
       "      <th>x144</th>\n",
       "      <th>x145</th>\n",
       "      <th>x146</th>\n",
       "      <th>x147</th>\n",
       "      <th>x148</th>\n",
       "    </tr>\n",
       "  </thead>\n",
       "  <tbody>\n",
       "    <tr>\n",
       "      <th>0</th>\n",
       "      <td>0.004040</td>\n",
       "      <td>0.131499</td>\n",
       "      <td>0.105610</td>\n",
       "      <td>0.085633</td>\n",
       "      <td>0.070021</td>\n",
       "      <td>0.057681</td>\n",
       "      <td>0.047828</td>\n",
       "      <td>0.039887</td>\n",
       "      <td>0.033435</td>\n",
       "      <td>0.028151</td>\n",
       "      <td>...</td>\n",
       "      <td>-0.000423</td>\n",
       "      <td>-0.000419</td>\n",
       "      <td>-0.000415</td>\n",
       "      <td>-0.000411</td>\n",
       "      <td>-0.000407</td>\n",
       "      <td>-0.000403</td>\n",
       "      <td>-0.000399</td>\n",
       "      <td>-0.000396</td>\n",
       "      <td>-0.000392</td>\n",
       "      <td>-3.880890e-04</td>\n",
       "    </tr>\n",
       "    <tr>\n",
       "      <th>1</th>\n",
       "      <td>0.770000</td>\n",
       "      <td>-0.141661</td>\n",
       "      <td>-0.120873</td>\n",
       "      <td>-0.104190</td>\n",
       "      <td>-0.090625</td>\n",
       "      <td>-0.079465</td>\n",
       "      <td>-0.070187</td>\n",
       "      <td>-0.062398</td>\n",
       "      <td>-0.055804</td>\n",
       "      <td>-0.050177</td>\n",
       "      <td>...</td>\n",
       "      <td>-0.000758</td>\n",
       "      <td>-0.000747</td>\n",
       "      <td>-0.000738</td>\n",
       "      <td>-0.000728</td>\n",
       "      <td>-0.000718</td>\n",
       "      <td>-0.000709</td>\n",
       "      <td>-0.000700</td>\n",
       "      <td>-0.000691</td>\n",
       "      <td>-0.000682</td>\n",
       "      <td>-6.733230e-04</td>\n",
       "    </tr>\n",
       "    <tr>\n",
       "      <th>2</th>\n",
       "      <td>0.000346</td>\n",
       "      <td>0.153430</td>\n",
       "      <td>0.131380</td>\n",
       "      <td>0.113352</td>\n",
       "      <td>0.098472</td>\n",
       "      <td>0.086084</td>\n",
       "      <td>0.075688</td>\n",
       "      <td>0.066901</td>\n",
       "      <td>0.059425</td>\n",
       "      <td>0.053023</td>\n",
       "      <td>...</td>\n",
       "      <td>0.000259</td>\n",
       "      <td>0.000253</td>\n",
       "      <td>0.000248</td>\n",
       "      <td>0.000243</td>\n",
       "      <td>0.000238</td>\n",
       "      <td>0.000234</td>\n",
       "      <td>0.000229</td>\n",
       "      <td>0.000224</td>\n",
       "      <td>0.000220</td>\n",
       "      <td>2.157720e-04</td>\n",
       "    </tr>\n",
       "    <tr>\n",
       "      <th>3</th>\n",
       "      <td>0.000606</td>\n",
       "      <td>0.106500</td>\n",
       "      <td>0.092573</td>\n",
       "      <td>0.080952</td>\n",
       "      <td>0.071180</td>\n",
       "      <td>0.062907</td>\n",
       "      <td>0.055858</td>\n",
       "      <td>0.049815</td>\n",
       "      <td>0.044607</td>\n",
       "      <td>0.040094</td>\n",
       "      <td>...</td>\n",
       "      <td>0.000137</td>\n",
       "      <td>0.000133</td>\n",
       "      <td>0.000130</td>\n",
       "      <td>0.000126</td>\n",
       "      <td>0.000122</td>\n",
       "      <td>0.000119</td>\n",
       "      <td>0.000116</td>\n",
       "      <td>0.000112</td>\n",
       "      <td>0.000109</td>\n",
       "      <td>1.059770e-04</td>\n",
       "    </tr>\n",
       "    <tr>\n",
       "      <th>4</th>\n",
       "      <td>0.000286</td>\n",
       "      <td>0.534185</td>\n",
       "      <td>0.417997</td>\n",
       "      <td>0.334166</td>\n",
       "      <td>0.271635</td>\n",
       "      <td>0.223868</td>\n",
       "      <td>0.186696</td>\n",
       "      <td>0.157318</td>\n",
       "      <td>0.133790</td>\n",
       "      <td>0.114727</td>\n",
       "      <td>...</td>\n",
       "      <td>0.000293</td>\n",
       "      <td>0.000287</td>\n",
       "      <td>0.000281</td>\n",
       "      <td>0.000275</td>\n",
       "      <td>0.000270</td>\n",
       "      <td>0.000265</td>\n",
       "      <td>0.000260</td>\n",
       "      <td>0.000255</td>\n",
       "      <td>0.000250</td>\n",
       "      <td>2.448460e-04</td>\n",
       "    </tr>\n",
       "    <tr>\n",
       "      <th>...</th>\n",
       "      <td>...</td>\n",
       "      <td>...</td>\n",
       "      <td>...</td>\n",
       "      <td>...</td>\n",
       "      <td>...</td>\n",
       "      <td>...</td>\n",
       "      <td>...</td>\n",
       "      <td>...</td>\n",
       "      <td>...</td>\n",
       "      <td>...</td>\n",
       "      <td>...</td>\n",
       "      <td>...</td>\n",
       "      <td>...</td>\n",
       "      <td>...</td>\n",
       "      <td>...</td>\n",
       "      <td>...</td>\n",
       "      <td>...</td>\n",
       "      <td>...</td>\n",
       "      <td>...</td>\n",
       "      <td>...</td>\n",
       "      <td>...</td>\n",
       "    </tr>\n",
       "    <tr>\n",
       "      <th>2245</th>\n",
       "      <td>0.222000</td>\n",
       "      <td>-0.118667</td>\n",
       "      <td>-0.102461</td>\n",
       "      <td>-0.089256</td>\n",
       "      <td>-0.078370</td>\n",
       "      <td>-0.069303</td>\n",
       "      <td>-0.061680</td>\n",
       "      <td>-0.055217</td>\n",
       "      <td>-0.049694</td>\n",
       "      <td>-0.044940</td>\n",
       "      <td>...</td>\n",
       "      <td>-0.000752</td>\n",
       "      <td>-0.000742</td>\n",
       "      <td>-0.000732</td>\n",
       "      <td>-0.000723</td>\n",
       "      <td>-0.000713</td>\n",
       "      <td>-0.000704</td>\n",
       "      <td>-0.000695</td>\n",
       "      <td>-0.000686</td>\n",
       "      <td>-0.000677</td>\n",
       "      <td>-6.687850e-04</td>\n",
       "    </tr>\n",
       "    <tr>\n",
       "      <th>2246</th>\n",
       "      <td>0.000778</td>\n",
       "      <td>0.236747</td>\n",
       "      <td>0.196068</td>\n",
       "      <td>0.164110</td>\n",
       "      <td>0.138657</td>\n",
       "      <td>0.118142</td>\n",
       "      <td>0.101430</td>\n",
       "      <td>0.087685</td>\n",
       "      <td>0.076283</td>\n",
       "      <td>0.066747</td>\n",
       "      <td>...</td>\n",
       "      <td>0.000072</td>\n",
       "      <td>0.000069</td>\n",
       "      <td>0.000066</td>\n",
       "      <td>0.000063</td>\n",
       "      <td>0.000059</td>\n",
       "      <td>0.000057</td>\n",
       "      <td>0.000054</td>\n",
       "      <td>0.000051</td>\n",
       "      <td>0.000049</td>\n",
       "      <td>4.610000e-05</td>\n",
       "    </tr>\n",
       "    <tr>\n",
       "      <th>2247</th>\n",
       "      <td>0.000786</td>\n",
       "      <td>0.098219</td>\n",
       "      <td>0.085440</td>\n",
       "      <td>0.074755</td>\n",
       "      <td>0.065754</td>\n",
       "      <td>0.058122</td>\n",
       "      <td>0.051610</td>\n",
       "      <td>0.046021</td>\n",
       "      <td>0.041199</td>\n",
       "      <td>0.037018</td>\n",
       "      <td>...</td>\n",
       "      <td>0.000068</td>\n",
       "      <td>0.000065</td>\n",
       "      <td>0.000062</td>\n",
       "      <td>0.000059</td>\n",
       "      <td>0.000056</td>\n",
       "      <td>0.000054</td>\n",
       "      <td>0.000051</td>\n",
       "      <td>0.000048</td>\n",
       "      <td>0.000046</td>\n",
       "      <td>4.350000e-05</td>\n",
       "    </tr>\n",
       "    <tr>\n",
       "      <th>2248</th>\n",
       "      <td>0.000462</td>\n",
       "      <td>0.522221</td>\n",
       "      <td>0.408493</td>\n",
       "      <td>0.326322</td>\n",
       "      <td>0.265003</td>\n",
       "      <td>0.218163</td>\n",
       "      <td>0.181722</td>\n",
       "      <td>0.152934</td>\n",
       "      <td>0.129892</td>\n",
       "      <td>0.111233</td>\n",
       "      <td>...</td>\n",
       "      <td>0.000203</td>\n",
       "      <td>0.000198</td>\n",
       "      <td>0.000194</td>\n",
       "      <td>0.000189</td>\n",
       "      <td>0.000185</td>\n",
       "      <td>0.000180</td>\n",
       "      <td>0.000176</td>\n",
       "      <td>0.000172</td>\n",
       "      <td>0.000168</td>\n",
       "      <td>1.637430e-04</td>\n",
       "    </tr>\n",
       "    <tr>\n",
       "      <th>2249</th>\n",
       "      <td>0.000932</td>\n",
       "      <td>1.124713</td>\n",
       "      <td>0.773506</td>\n",
       "      <td>0.571311</td>\n",
       "      <td>0.437871</td>\n",
       "      <td>0.343909</td>\n",
       "      <td>0.275149</td>\n",
       "      <td>0.223474</td>\n",
       "      <td>0.183837</td>\n",
       "      <td>0.152921</td>\n",
       "      <td>...</td>\n",
       "      <td>0.000021</td>\n",
       "      <td>0.000018</td>\n",
       "      <td>0.000015</td>\n",
       "      <td>0.000013</td>\n",
       "      <td>0.000010</td>\n",
       "      <td>0.000008</td>\n",
       "      <td>0.000006</td>\n",
       "      <td>0.000004</td>\n",
       "      <td>0.000002</td>\n",
       "      <td>-5.170000e-07</td>\n",
       "    </tr>\n",
       "  </tbody>\n",
       "</table>\n",
       "<p>2250 rows × 150 columns</p>\n",
       "</div>"
      ],
      "text/plain": [
       "             k        x0        x1        x2        x3        x4        x5  \\\n",
       "0     0.004040  0.131499  0.105610  0.085633  0.070021  0.057681  0.047828   \n",
       "1     0.770000 -0.141661 -0.120873 -0.104190 -0.090625 -0.079465 -0.070187   \n",
       "2     0.000346  0.153430  0.131380  0.113352  0.098472  0.086084  0.075688   \n",
       "3     0.000606  0.106500  0.092573  0.080952  0.071180  0.062907  0.055858   \n",
       "4     0.000286  0.534185  0.417997  0.334166  0.271635  0.223868  0.186696   \n",
       "...        ...       ...       ...       ...       ...       ...       ...   \n",
       "2245  0.222000 -0.118667 -0.102461 -0.089256 -0.078370 -0.069303 -0.061680   \n",
       "2246  0.000778  0.236747  0.196068  0.164110  0.138657  0.118142  0.101430   \n",
       "2247  0.000786  0.098219  0.085440  0.074755  0.065754  0.058122  0.051610   \n",
       "2248  0.000462  0.522221  0.408493  0.326322  0.265003  0.218163  0.181722   \n",
       "2249  0.000932  1.124713  0.773506  0.571311  0.437871  0.343909  0.275149   \n",
       "\n",
       "            x6        x7        x8  ...      x139      x140      x141  \\\n",
       "0     0.039887  0.033435  0.028151  ... -0.000423 -0.000419 -0.000415   \n",
       "1    -0.062398 -0.055804 -0.050177  ... -0.000758 -0.000747 -0.000738   \n",
       "2     0.066901  0.059425  0.053023  ...  0.000259  0.000253  0.000248   \n",
       "3     0.049815  0.044607  0.040094  ...  0.000137  0.000133  0.000130   \n",
       "4     0.157318  0.133790  0.114727  ...  0.000293  0.000287  0.000281   \n",
       "...        ...       ...       ...  ...       ...       ...       ...   \n",
       "2245 -0.055217 -0.049694 -0.044940  ... -0.000752 -0.000742 -0.000732   \n",
       "2246  0.087685  0.076283  0.066747  ...  0.000072  0.000069  0.000066   \n",
       "2247  0.046021  0.041199  0.037018  ...  0.000068  0.000065  0.000062   \n",
       "2248  0.152934  0.129892  0.111233  ...  0.000203  0.000198  0.000194   \n",
       "2249  0.223474  0.183837  0.152921  ...  0.000021  0.000018  0.000015   \n",
       "\n",
       "          x142      x143      x144      x145      x146      x147          x148  \n",
       "0    -0.000411 -0.000407 -0.000403 -0.000399 -0.000396 -0.000392 -3.880890e-04  \n",
       "1    -0.000728 -0.000718 -0.000709 -0.000700 -0.000691 -0.000682 -6.733230e-04  \n",
       "2     0.000243  0.000238  0.000234  0.000229  0.000224  0.000220  2.157720e-04  \n",
       "3     0.000126  0.000122  0.000119  0.000116  0.000112  0.000109  1.059770e-04  \n",
       "4     0.000275  0.000270  0.000265  0.000260  0.000255  0.000250  2.448460e-04  \n",
       "...        ...       ...       ...       ...       ...       ...           ...  \n",
       "2245 -0.000723 -0.000713 -0.000704 -0.000695 -0.000686 -0.000677 -6.687850e-04  \n",
       "2246  0.000063  0.000059  0.000057  0.000054  0.000051  0.000049  4.610000e-05  \n",
       "2247  0.000059  0.000056  0.000054  0.000051  0.000048  0.000046  4.350000e-05  \n",
       "2248  0.000189  0.000185  0.000180  0.000176  0.000172  0.000168  1.637430e-04  \n",
       "2249  0.000013  0.000010  0.000008  0.000006  0.000004  0.000002 -5.170000e-07  \n",
       "\n",
       "[2250 rows x 150 columns]"
      ]
     },
     "execution_count": 4,
     "metadata": {},
     "output_type": "execute_result"
    }
   ],
   "source": [
    "k_values=df.k_.unique()\n",
    "print('\\n',len(k_values))\n",
    "\n",
    "for index_k, k in enumerate(k_values):\n",
    "    \n",
    "#     if k != 0.01 and k != 0.1:\n",
    "\n",
    "#         \n",
    "        slope_values = df[(df['k_']==k)]['slope'].values.tolist()\n",
    "#         print(slope_values)\n",
    "    #         \n",
    "\n",
    "        row = [k]\n",
    "    #     print(row)\n",
    "\n",
    "\n",
    "        for index_c, current in enumerate(slope_values):\n",
    "            row.extend([slope_values[index_c]])\n",
    "    #             print(row)\n",
    "\n",
    "\n",
    "\n",
    "        row_df = pd.DataFrame([row], columns=column_names)\n",
    "\n",
    "\n",
    "\n",
    "    #     if index_d == 0 and index_k == 0:\n",
    "        if index_k == 0:\n",
    "            final_df = row_df\n",
    "        else:\n",
    "            final_df = final_df.append(row_df)\n",
    "\n",
    "# final_df\n",
    "\n",
    "final_df = final_df.reset_index(drop = True)\n",
    "\n",
    "final_df"
   ]
  },
  {
   "cell_type": "markdown",
   "metadata": {},
   "source": [
    "# Creating the training set and the test set"
   ]
  },
  {
   "cell_type": "code",
   "execution_count": 5,
   "metadata": {},
   "outputs": [
    {
     "data": {
      "text/plain": [
       "0      -2.393619\n",
       "5      -0.170053\n",
       "6      -3.333482\n",
       "7      -0.069560\n",
       "16     -0.147520\n",
       "          ...   \n",
       "2226   -4.095826\n",
       "2235   -2.137869\n",
       "2239   -3.489455\n",
       "2241   -0.214670\n",
       "2247   -3.104577\n",
       "Name: k, Length: 450, dtype: float64"
      ]
     },
     "execution_count": 5,
     "metadata": {},
     "output_type": "execute_result"
    }
   ],
   "source": [
    "final_df = final_df.reset_index(drop = True)\n",
    "\n",
    "# splitting the train and test set to an 80/20 ratio\n",
    "# note: the output column is still included in the test AND the trainig set. It will be removed later\n",
    "\n",
    "train_dataset = final_df.sample(frac=0.8, random_state=115)\n",
    "test_dataset = final_df.drop(train_dataset.index)\n",
    "# train_dataset\n",
    "\n",
    "# removing the output value from the training set\n",
    "# note: now train_dataset and test_dataset does not inlude the k values. \n",
    "y_train_k = train_dataset.pop('k')\n",
    "\n",
    "# removing the output value from the testing set\n",
    "y_test_k = test_dataset.pop('k')\n",
    "\n",
    "# converting the training and testing k values to log10 values\n",
    "y_train_k = (np.log10(y_train_k.to_frame())).squeeze()\n",
    "y_test_k  = (np.log10(y_test_k.to_frame())).squeeze()\n",
    "\n",
    "# stats of the train set. This is needed to normalize the training test (cell below)\n",
    "train_stats = train_dataset.describe()\n",
    "train_stats = train_stats.transpose()\n",
    "\n",
    "# stats of the test set. This is needed to normalize the test test (cell below)\n",
    "test_stats = test_dataset.describe()\n",
    "test_stats = test_stats.transpose()\n",
    "y_test_k"
   ]
  },
  {
   "cell_type": "markdown",
   "metadata": {},
   "source": [
    "# Normalizing the input values (not including the k values) of both train and test sets. "
   ]
  },
  {
   "cell_type": "code",
   "execution_count": 6,
   "metadata": {},
   "outputs": [],
   "source": [
    "def norm(x):\n",
    "    return(x-train_stats['mean']) / train_stats['std'] #standardize\n",
    "#     return(x-train_stats['min']) / (train_stats['max'] -  train_stats['min']) #normalize\n",
    "normed_train_data = norm(train_dataset)\n",
    "normed_test_data = norm(test_dataset)"
   ]
  },
  {
   "cell_type": "markdown",
   "metadata": {},
   "source": [
    "# Building the model"
   ]
  },
  {
   "cell_type": "code",
   "execution_count": 7,
   "metadata": {},
   "outputs": [
    {
     "name": "stdout",
     "output_type": "stream",
     "text": [
      "<class 'tensorflow.python.keras.optimizer_v2.adam.Adam'> ********\n",
      "Model: \"sequential\"\n",
      "_________________________________________________________________\n",
      "Layer (type)                 Output Shape              Param #   \n",
      "=================================================================\n",
      "dense (Dense)                (None, 10)                1500      \n",
      "_________________________________________________________________\n",
      "dense_1 (Dense)              (None, 10)                110       \n",
      "_________________________________________________________________\n",
      "dense_2 (Dense)              (None, 10)                110       \n",
      "_________________________________________________________________\n",
      "dense_3 (Dense)              (None, 5)                 55        \n",
      "_________________________________________________________________\n",
      "dense_4 (Dense)              (None, 1)                 6         \n",
      "=================================================================\n",
      "Total params: 1,781\n",
      "Trainable params: 1,781\n",
      "Non-trainable params: 0\n",
      "_________________________________________________________________\n",
      "None\n",
      "WARNING:tensorflow:Falling back from v2 loop because of error: Failed to find data adapter that can handle input: <class 'pandas.core.frame.DataFrame'>, <class 'NoneType'>\n"
     ]
    },
    {
     "data": {
      "text/plain": [
       "array([[0.0848051 ],\n",
       "       [0.59687996],\n",
       "       [0.18411769],\n",
       "       [0.21044825],\n",
       "       [0.33801934],\n",
       "       [0.5361285 ],\n",
       "       [0.25805148],\n",
       "       [0.13142388],\n",
       "       [0.21809913],\n",
       "       [0.06701668]], dtype=float32)"
      ]
     },
     "execution_count": 7,
     "metadata": {},
     "output_type": "execute_result"
    }
   ],
   "source": [
    "def build_model():\n",
    "    model = keras.Sequential([\n",
    "        layers.Dense(10, activation = tf.nn.relu, input_shape=[len(train_dataset.keys())]),#8 relu\n",
    "        layers.Dense(10, activation = tf.nn.relu), #8 tanh\n",
    "        layers.Dense(10, activation = tf.nn.relu),#uncommented\n",
    "        layers.Dense(5, activation = tf.nn.relu),\n",
    "        layers.Dense(1)\n",
    "    ])\n",
    "\n",
    "    optimizer = tf.keras.optimizers.Adam(0.001)\n",
    "\n",
    "    model.compile(loss = 'mse',\n",
    "                  optimizer=optimizer,\n",
    "                  metrics=['mae', 'mse'])\n",
    "    print(type(optimizer), \"********\")\n",
    "    return model\n",
    "\n",
    "\n",
    "model = build_model()\n",
    "\n",
    "print(model.summary())\n",
    "\n",
    "example_batch = normed_train_data[:10]\n",
    "example_result = model.predict(example_batch)\n",
    "example_result"
   ]
  },
  {
   "cell_type": "code",
   "execution_count": 8,
   "metadata": {},
   "outputs": [
    {
     "name": "stdout",
     "output_type": "stream",
     "text": [
      "WARNING:tensorflow:Falling back from v2 loop because of error: Failed to find data adapter that can handle input: <class 'pandas.core.frame.DataFrame'>, <class 'NoneType'>\n",
      ".........."
     ]
    }
   ],
   "source": [
    "class PrintDot(keras.callbacks.Callback):\n",
    "    def on_epoch_end(self, epoch, logs):\n",
    "        if epoch % 100==0:\n",
    "            print('.',end='')\n",
    "EPOCHS=1000\n",
    "\n",
    "history = model.fit(\n",
    "    normed_train_data, y_train_k,\n",
    "    epochs=EPOCHS, validation_split = 0.2, verbose=0,\n",
    "    callbacks=[PrintDot()])"
   ]
  },
  {
   "cell_type": "code",
   "execution_count": 9,
   "metadata": {},
   "outputs": [
    {
     "data": {
      "text/plain": [
       "(1800,)"
      ]
     },
     "execution_count": 9,
     "metadata": {},
     "output_type": "execute_result"
    }
   ],
   "source": [
    "normed_train_data.shape\n",
    "y_train_k.shape"
   ]
  },
  {
   "cell_type": "markdown",
   "metadata": {},
   "source": [
    "# Looking at evaluation metrics of the last 5 epochs. "
   ]
  },
  {
   "cell_type": "code",
   "execution_count": 10,
   "metadata": {},
   "outputs": [
    {
     "data": {
      "text/html": [
       "<div>\n",
       "<style scoped>\n",
       "    .dataframe tbody tr th:only-of-type {\n",
       "        vertical-align: middle;\n",
       "    }\n",
       "\n",
       "    .dataframe tbody tr th {\n",
       "        vertical-align: top;\n",
       "    }\n",
       "\n",
       "    .dataframe thead th {\n",
       "        text-align: right;\n",
       "    }\n",
       "</style>\n",
       "<table border=\"1\" class=\"dataframe\">\n",
       "  <thead>\n",
       "    <tr style=\"text-align: right;\">\n",
       "      <th></th>\n",
       "      <th>loss</th>\n",
       "      <th>mae</th>\n",
       "      <th>mse</th>\n",
       "      <th>val_loss</th>\n",
       "      <th>val_mae</th>\n",
       "      <th>val_mse</th>\n",
       "      <th>epoch</th>\n",
       "    </tr>\n",
       "  </thead>\n",
       "  <tbody>\n",
       "    <tr>\n",
       "      <th>995</th>\n",
       "      <td>0.009430</td>\n",
       "      <td>0.059349</td>\n",
       "      <td>0.009430</td>\n",
       "      <td>0.004094</td>\n",
       "      <td>0.038265</td>\n",
       "      <td>0.004094</td>\n",
       "      <td>995</td>\n",
       "    </tr>\n",
       "    <tr>\n",
       "      <th>996</th>\n",
       "      <td>0.009690</td>\n",
       "      <td>0.060870</td>\n",
       "      <td>0.009690</td>\n",
       "      <td>0.003594</td>\n",
       "      <td>0.038797</td>\n",
       "      <td>0.003594</td>\n",
       "      <td>996</td>\n",
       "    </tr>\n",
       "    <tr>\n",
       "      <th>997</th>\n",
       "      <td>0.007194</td>\n",
       "      <td>0.050642</td>\n",
       "      <td>0.007194</td>\n",
       "      <td>0.005116</td>\n",
       "      <td>0.043612</td>\n",
       "      <td>0.005116</td>\n",
       "      <td>997</td>\n",
       "    </tr>\n",
       "    <tr>\n",
       "      <th>998</th>\n",
       "      <td>0.008030</td>\n",
       "      <td>0.055697</td>\n",
       "      <td>0.008030</td>\n",
       "      <td>0.004445</td>\n",
       "      <td>0.043512</td>\n",
       "      <td>0.004445</td>\n",
       "      <td>998</td>\n",
       "    </tr>\n",
       "    <tr>\n",
       "      <th>999</th>\n",
       "      <td>0.011504</td>\n",
       "      <td>0.063238</td>\n",
       "      <td>0.011504</td>\n",
       "      <td>0.008417</td>\n",
       "      <td>0.052197</td>\n",
       "      <td>0.008417</td>\n",
       "      <td>999</td>\n",
       "    </tr>\n",
       "  </tbody>\n",
       "</table>\n",
       "</div>"
      ],
      "text/plain": [
       "         loss       mae       mse  val_loss   val_mae   val_mse  epoch\n",
       "995  0.009430  0.059349  0.009430  0.004094  0.038265  0.004094    995\n",
       "996  0.009690  0.060870  0.009690  0.003594  0.038797  0.003594    996\n",
       "997  0.007194  0.050642  0.007194  0.005116  0.043612  0.005116    997\n",
       "998  0.008030  0.055697  0.008030  0.004445  0.043512  0.004445    998\n",
       "999  0.011504  0.063238  0.011504  0.008417  0.052197  0.008417    999"
      ]
     },
     "execution_count": 10,
     "metadata": {},
     "output_type": "execute_result"
    }
   ],
   "source": [
    "hist = pd.DataFrame(history.history)\n",
    "hist['epoch'] = history.epoch\n",
    "hist.tail()"
   ]
  },
  {
   "cell_type": "markdown",
   "metadata": {},
   "source": [
    "### W/O early stopping"
   ]
  },
  {
   "cell_type": "code",
   "execution_count": 11,
   "metadata": {
    "scrolled": false
   },
   "outputs": [
    {
     "name": "stdout",
     "output_type": "stream",
     "text": [
      "WARNING:tensorflow:Falling back from v2 loop because of error: Failed to find data adapter that can handle input: <class 'pandas.core.frame.DataFrame'>, <class 'NoneType'>\n"
     ]
    },
    {
     "data": {
      "text/plain": [
       "<Figure size 432x288 with 0 Axes>"
      ]
     },
     "metadata": {},
     "output_type": "display_data"
    },
    {
     "data": {
      "image/png": "[encoded data removed]",
      "text/plain": [
       "<Figure size 570x380 with 1 Axes>"
      ]
     },
     "metadata": {
      "needs_background": "light"
     },
     "output_type": "display_data"
    },
    {
     "data": {
      "text/plain": [
       "<Figure size 432x288 with 0 Axes>"
      ]
     },
     "metadata": {},
     "output_type": "display_data"
    },
    {
     "data": {
      "image/png": "[encoded data removed]",
      "text/plain": [
       "<Figure size 570x380 with 1 Axes>"
      ]
     },
     "metadata": {
      "needs_background": "light"
     },
     "output_type": "display_data"
    }
   ],
   "source": [
    "crimson = [(0.91, 0, 0.05)]\n",
    "KU_blue = [(0.5, 0.5, 0.5)]\n",
    "\n",
    "def plot_history(history):\n",
    "    hist = pd.DataFrame(history.history)\n",
    "    hist['epoch']=history.epoch\n",
    "    \n",
    "    plt.figure()\n",
    "    plt.figure(figsize=(3, 2), dpi = 190)\n",
    "    plt.rc('text', usetex=True)\n",
    "    plt.rc('font', family = 'serif')\n",
    "    plt.xlabel('Epoch', fontsize=8)\n",
    "    plt.ylabel('Mean Abs Error [log$_{10}(\\it{k})$]', fontsize=8)\n",
    "    plt.plot(hist['epoch'], hist['mae'],\n",
    "             label = 'Train Error', c = 'blue', linewidth=1)\n",
    "    plt.plot(hist['epoch'], hist['val_mae'],\n",
    "             label = 'Val Error', c = 'red', linewidth=1)\n",
    "    plt.legend(prop={'size': 8})\n",
    "    plt.tick_params(direction = \"in\", width = 0.3, labelsize=8)\n",
    "    plt.ylim([0,2.6])\n",
    "    \n",
    "    plt.figure()\n",
    "    plt.figure(figsize=(3, 2), dpi = 190)\n",
    "    plt.rc('text', usetex=True)\n",
    "    plt.rc('font', family = 'serif')\n",
    "    plt.xlabel('Epoch', fontsize=8)\n",
    "    plt.ylabel('Mean Square Error [log$_{10}(\\it{k})$$^2$]', fontsize=8)\n",
    "    plt.plot(hist['epoch'], hist['mse'],\n",
    "            label='Train Error', c = 'blue', linewidth=1)\n",
    "    plt.plot(hist['epoch'], hist['val_mse'],\n",
    "            label = 'Val Error', c = 'red', linewidth=1)\n",
    "    plt.legend(prop={'size': 8})\n",
    "    plt.tick_params(direction = \"in\", width = 0.3, labelsize=8)\n",
    "    plt.ylim([-0.5,8])\n",
    "    \n",
    "plot_history(history)\n",
    "\n",
    "loss, mae, mse = model.evaluate(normed_test_data, y_test_k, verbose=0)\n"
   ]
  },
  {
   "cell_type": "code",
   "execution_count": 12,
   "metadata": {},
   "outputs": [
    {
     "name": "stdout",
     "output_type": "stream",
     "text": [
      "WARNING:tensorflow:Falling back from v2 loop because of error: Failed to find data adapter that can handle input: <class 'pandas.core.frame.DataFrame'>, <class 'NoneType'>\n",
      "Testing set Mean Abs Error:  0.06 k\n",
      "Testing set Mean Squared Error:  0.01 k\n",
      "Testing set loss:  0.01 k\n"
     ]
    },
    {
     "data": {
      "text/plain": [
       "<Figure size 432x288 with 0 Axes>"
      ]
     },
     "metadata": {},
     "output_type": "display_data"
    },
    {
     "data": {
      "image/png": "[encoded data removed]",
      "text/plain": [
       "<Figure size 570x380 with 1 Axes>"
      ]
     },
     "metadata": {
      "needs_background": "light"
     },
     "output_type": "display_data"
    }
   ],
   "source": [
    "test_predictions = model.predict(normed_test_data).flatten()\n",
    "\n",
    "\n",
    "\n",
    "plt.figure()\n",
    "plt.figure(figsize=(3, 2), dpi = 190)\n",
    "plt.scatter(y_test_k, test_predictions, c = crimson, s= 5)\n",
    "plt.rc('text', usetex=True)\n",
    "plt.rc('font', family = 'serif')\n",
    "plt.xlabel(r'True Values [log$_{10}(\\it{k})$]', fontsize=8)\n",
    "plt.ylabel(r'Predictions [log$_{10}(\\it{k})$]', fontsize=8)\n",
    "plt.tick_params(direction = \"in\", width = 0.3, labelsize=8)\n",
    "# plt.axis('equal')\n",
    "# plt.axis('square')\n",
    "# plt.xlim([-10, plt.xlim()[3]])\n",
    "# plt.ylim([-10, plt.ylim()[3]])\n",
    "_ = plt.plot([0, -5], [0, -5], c = 'blue', linewidth = 1)\n",
    "\n",
    "print('Testing set Mean Abs Error: {:5.2f} k'.format(mae))\n",
    "print('Testing set Mean Squared Error: {:5.2f} k'.format(mse))\n",
    "print('Testing set loss: {:5.2f} k'.format(loss))"
   ]
  },
  {
   "cell_type": "markdown",
   "metadata": {},
   "source": [
    "# Creating the REAL data set to test the model on the real data."
   ]
  },
  {
   "cell_type": "code",
   "execution_count": 13,
   "metadata": {},
   "outputs": [
    {
     "name": "stdout",
     "output_type": "stream",
     "text": [
      "['k', 'x0', 'x1', 'x2', 'x3', 'x4', 'x5', 'x6', 'x7', 'x8', 'x9', 'x10', 'x11', 'x12', 'x13', 'x14', 'x15', 'x16', 'x17', 'x18', 'x19', 'x20', 'x21', 'x22', 'x23', 'x24', 'x25', 'x26', 'x27', 'x28', 'x29', 'x30', 'x31', 'x32', 'x33', 'x34', 'x35', 'x36', 'x37', 'x38', 'x39', 'x40', 'x41', 'x42', 'x43', 'x44', 'x45', 'x46', 'x47', 'x48', 'x49', 'x50', 'x51', 'x52', 'x53', 'x54', 'x55', 'x56', 'x57', 'x58', 'x59', 'x60', 'x61', 'x62', 'x63', 'x64', 'x65', 'x66', 'x67', 'x68', 'x69', 'x70', 'x71', 'x72', 'x73', 'x74', 'x75', 'x76', 'x77', 'x78', 'x79', 'x80', 'x81', 'x82', 'x83', 'x84', 'x85', 'x86', 'x87', 'x88', 'x89', 'x90', 'x91', 'x92', 'x93', 'x94', 'x95', 'x96', 'x97', 'x98', 'x99', 'x100', 'x101', 'x102', 'x103', 'x104', 'x105', 'x106', 'x107', 'x108', 'x109', 'x110', 'x111', 'x112', 'x113', 'x114', 'x115', 'x116', 'x117', 'x118', 'x119', 'x120', 'x121', 'x122', 'x123', 'x124', 'x125', 'x126', 'x127', 'x128', 'x129', 'x130', 'x131', 'x132', 'x133', 'x134', 'x135', 'x136', 'x137', 'x138', 'x139', 'x140', 'x141', 'x142', 'x143', 'x144', 'x145', 'x146', 'x147', 'x148']\n",
      "\n",
      " 4\n"
     ]
    }
   ],
   "source": [
    "# df = pd.read_csv('UDS3_v2.csv')\n",
    "df = pd.read_csv('Trmd Test (-4 slope csv).csv')\n",
    "\n",
    "# column_string = 'd, '\n",
    "# column_string += 'f, '\n",
    "column_string = 'k, '\n",
    "# column_string += 'slope, '\n",
    "\n",
    "for x in range(149):\n",
    "    column_string += 'x'+str(x)+', '\n",
    "column_string = column_string[:-2]\n",
    "column_names = column_string.split(', ')\n",
    "\n",
    "print(column_names)\n",
    "df\n",
    "k_values=df.k_.unique()\n",
    "print('\\n',len(k_values))"
   ]
  },
  {
   "cell_type": "code",
   "execution_count": 14,
   "metadata": {},
   "outputs": [
    {
     "name": "stdout",
     "output_type": "stream",
     "text": [
      "\n",
      " 4\n"
     ]
    },
    {
     "data": {
      "text/html": [
       "<div>\n",
       "<style scoped>\n",
       "    .dataframe tbody tr th:only-of-type {\n",
       "        vertical-align: middle;\n",
       "    }\n",
       "\n",
       "    .dataframe tbody tr th {\n",
       "        vertical-align: top;\n",
       "    }\n",
       "\n",
       "    .dataframe thead th {\n",
       "        text-align: right;\n",
       "    }\n",
       "</style>\n",
       "<table border=\"1\" class=\"dataframe\">\n",
       "  <thead>\n",
       "    <tr style=\"text-align: right;\">\n",
       "      <th></th>\n",
       "      <th>k</th>\n",
       "      <th>x0</th>\n",
       "      <th>x1</th>\n",
       "      <th>x2</th>\n",
       "      <th>x3</th>\n",
       "      <th>x4</th>\n",
       "      <th>x5</th>\n",
       "      <th>x6</th>\n",
       "      <th>x7</th>\n",
       "      <th>x8</th>\n",
       "      <th>...</th>\n",
       "      <th>x139</th>\n",
       "      <th>x140</th>\n",
       "      <th>x141</th>\n",
       "      <th>x142</th>\n",
       "      <th>x143</th>\n",
       "      <th>x144</th>\n",
       "      <th>x145</th>\n",
       "      <th>x146</th>\n",
       "      <th>x147</th>\n",
       "      <th>x148</th>\n",
       "    </tr>\n",
       "  </thead>\n",
       "  <tbody>\n",
       "    <tr>\n",
       "      <th>0</th>\n",
       "      <td>-1.221849</td>\n",
       "      <td>-0.305470</td>\n",
       "      <td>-0.263184</td>\n",
       "      <td>-0.218825</td>\n",
       "      <td>-0.194891</td>\n",
       "      <td>-0.223514</td>\n",
       "      <td>-0.110392</td>\n",
       "      <td>-0.101868</td>\n",
       "      <td>-0.054907</td>\n",
       "      <td>-0.092980</td>\n",
       "      <td>...</td>\n",
       "      <td>0.0</td>\n",
       "      <td>0.0</td>\n",
       "      <td>0.0</td>\n",
       "      <td>0.0</td>\n",
       "      <td>0.0</td>\n",
       "      <td>0.0</td>\n",
       "      <td>0.0</td>\n",
       "      <td>0.0</td>\n",
       "      <td>0.0</td>\n",
       "      <td>0.000000</td>\n",
       "    </tr>\n",
       "    <tr>\n",
       "      <th>1</th>\n",
       "      <td>-1.522879</td>\n",
       "      <td>0.243177</td>\n",
       "      <td>0.148880</td>\n",
       "      <td>0.065415</td>\n",
       "      <td>0.015022</td>\n",
       "      <td>-0.029148</td>\n",
       "      <td>-0.061311</td>\n",
       "      <td>-0.085607</td>\n",
       "      <td>-0.116060</td>\n",
       "      <td>-0.131366</td>\n",
       "      <td>...</td>\n",
       "      <td>0.0</td>\n",
       "      <td>0.0</td>\n",
       "      <td>0.0</td>\n",
       "      <td>0.0</td>\n",
       "      <td>0.0</td>\n",
       "      <td>0.0</td>\n",
       "      <td>0.0</td>\n",
       "      <td>0.0</td>\n",
       "      <td>0.0</td>\n",
       "      <td>-0.002109</td>\n",
       "    </tr>\n",
       "    <tr>\n",
       "      <th>2</th>\n",
       "      <td>-2.154902</td>\n",
       "      <td>0.517499</td>\n",
       "      <td>0.523880</td>\n",
       "      <td>0.509414</td>\n",
       "      <td>0.388283</td>\n",
       "      <td>0.308444</td>\n",
       "      <td>0.227985</td>\n",
       "      <td>0.192684</td>\n",
       "      <td>0.184104</td>\n",
       "      <td>0.121437</td>\n",
       "      <td>...</td>\n",
       "      <td>0.0</td>\n",
       "      <td>0.0</td>\n",
       "      <td>0.0</td>\n",
       "      <td>0.0</td>\n",
       "      <td>0.0</td>\n",
       "      <td>0.0</td>\n",
       "      <td>0.0</td>\n",
       "      <td>0.0</td>\n",
       "      <td>0.0</td>\n",
       "      <td>0.000000</td>\n",
       "    </tr>\n",
       "    <tr>\n",
       "      <th>3</th>\n",
       "      <td>-3.000000</td>\n",
       "      <td>0.301684</td>\n",
       "      <td>0.271179</td>\n",
       "      <td>0.284273</td>\n",
       "      <td>0.233989</td>\n",
       "      <td>0.206822</td>\n",
       "      <td>0.138693</td>\n",
       "      <td>0.122137</td>\n",
       "      <td>0.138504</td>\n",
       "      <td>0.086233</td>\n",
       "      <td>...</td>\n",
       "      <td>0.0</td>\n",
       "      <td>0.0</td>\n",
       "      <td>0.0</td>\n",
       "      <td>0.0</td>\n",
       "      <td>0.0</td>\n",
       "      <td>0.0</td>\n",
       "      <td>0.0</td>\n",
       "      <td>0.0</td>\n",
       "      <td>0.0</td>\n",
       "      <td>0.000000</td>\n",
       "    </tr>\n",
       "  </tbody>\n",
       "</table>\n",
       "<p>4 rows × 150 columns</p>\n",
       "</div>"
      ],
      "text/plain": [
       "          k        x0        x1        x2        x3        x4        x5  \\\n",
       "0 -1.221849 -0.305470 -0.263184 -0.218825 -0.194891 -0.223514 -0.110392   \n",
       "1 -1.522879  0.243177  0.148880  0.065415  0.015022 -0.029148 -0.061311   \n",
       "2 -2.154902  0.517499  0.523880  0.509414  0.388283  0.308444  0.227985   \n",
       "3 -3.000000  0.301684  0.271179  0.284273  0.233989  0.206822  0.138693   \n",
       "\n",
       "         x6        x7        x8  ...  x139  x140  x141  x142  x143  x144  \\\n",
       "0 -0.101868 -0.054907 -0.092980  ...   0.0   0.0   0.0   0.0   0.0   0.0   \n",
       "1 -0.085607 -0.116060 -0.131366  ...   0.0   0.0   0.0   0.0   0.0   0.0   \n",
       "2  0.192684  0.184104  0.121437  ...   0.0   0.0   0.0   0.0   0.0   0.0   \n",
       "3  0.122137  0.138504  0.086233  ...   0.0   0.0   0.0   0.0   0.0   0.0   \n",
       "\n",
       "   x145  x146  x147      x148  \n",
       "0   0.0   0.0   0.0  0.000000  \n",
       "1   0.0   0.0   0.0 -0.002109  \n",
       "2   0.0   0.0   0.0  0.000000  \n",
       "3   0.0   0.0   0.0  0.000000  \n",
       "\n",
       "[4 rows x 150 columns]"
      ]
     },
     "execution_count": 14,
     "metadata": {},
     "output_type": "execute_result"
    }
   ],
   "source": [
    "k_values=df.k_.unique()\n",
    "print('\\n',len(k_values))\n",
    "\n",
    "# for index_d, d in enumerate(d_values):\n",
    "for index_k, k in enumerate(k_values):\n",
    "    \n",
    "#     if k != 0.01 and k != 0.1:\n",
    "\n",
    "#         \n",
    "        slope_values = df[(df['k_']==k)]['slope'].values.tolist()\n",
    "#         print(slope_values)\n",
    "    #         \n",
    "\n",
    "        row = [k]\n",
    "    #     print(row)\n",
    "\n",
    "\n",
    "        for index_c, current in enumerate(slope_values):\n",
    "            row.extend([slope_values[index_c]])\n",
    "    #             print(row)\n",
    "\n",
    "\n",
    "\n",
    "        row_df = pd.DataFrame([row], columns=column_names)\n",
    "\n",
    "\n",
    "\n",
    "    #     if index_d == 0 and index_k == 0:\n",
    "        if index_k == 0:\n",
    "            final_df = row_df\n",
    "        else:\n",
    "            final_df = final_df.append(row_df)\n",
    "\n",
    "# final_df\n",
    "\n",
    "final_df = final_df.reset_index(drop = True)\n",
    "\n",
    "final_df\n",
    "\n",
    "# len(slope_values)"
   ]
  },
  {
   "cell_type": "code",
   "execution_count": 15,
   "metadata": {},
   "outputs": [
    {
     "data": {
      "text/plain": [
       "0   -1.221849\n",
       "1   -1.522879\n",
       "2   -2.154902\n",
       "3   -3.000000\n",
       "Name: k, dtype: float64"
      ]
     },
     "execution_count": 15,
     "metadata": {},
     "output_type": "execute_result"
    }
   ],
   "source": [
    "test_dataset = final_df\n",
    "\n",
    "\n",
    "y_test_k = test_dataset.pop('k')\n",
    "\n",
    "# y_train_k = (np.log(y_train_k.to_frame())).squeeze()\n",
    "# y_test_k  = (np.log(y_test_k.to_frame())).squeeze()\n",
    "\n",
    "train_stats = train_dataset.describe()\n",
    "train_stats = train_stats.transpose()\n",
    "\n",
    "test_stats = test_dataset.describe()\n",
    "test_stats = test_stats.transpose()\n",
    "\n",
    "# final_df.loc[:, 'k':'x20']\n",
    "y_test_k"
   ]
  },
  {
   "cell_type": "code",
   "execution_count": 16,
   "metadata": {},
   "outputs": [],
   "source": [
    "def norm(x):\n",
    "    return(x-train_stats['mean']) / train_stats['std'] #standardize\n",
    "#     return(x-train_stats['min']) / (train_stats['max'] -  train_stats['min']) #normalize\n",
    "\n",
    "normed_test_data = norm(test_dataset)"
   ]
  },
  {
   "cell_type": "markdown",
   "metadata": {},
   "source": [
    "# Testing the experimental data"
   ]
  },
  {
   "cell_type": "code",
   "execution_count": 17,
   "metadata": {
    "scrolled": false
   },
   "outputs": [
    {
     "name": "stdout",
     "output_type": "stream",
     "text": [
      "WARNING:tensorflow:Falling back from v2 loop because of error: Failed to find data adapter that can handle input: <class 'pandas.core.frame.DataFrame'>, <class 'NoneType'>\n"
     ]
    },
    {
     "data": {
      "text/plain": [
       "<Figure size 432x288 with 0 Axes>"
      ]
     },
     "metadata": {},
     "output_type": "display_data"
    },
    {
     "data": {
      "image/png": "[encoded data removed]",
      "text/plain": [
       "<Figure size 570x380 with 1 Axes>"
      ]
     },
     "metadata": {
      "needs_background": "light"
     },
     "output_type": "display_data"
    },
    {
     "data": {
      "text/plain": [
       "<Figure size 432x288 with 0 Axes>"
      ]
     },
     "metadata": {},
     "output_type": "display_data"
    },
    {
     "data": {
      "image/png": "[encoded data removed]",
      "text/plain": [
       "<Figure size 570x380 with 1 Axes>"
      ]
     },
     "metadata": {
      "needs_background": "light"
     },
     "output_type": "display_data"
    }
   ],
   "source": [
    "import matplotlib.pyplot as plt\n",
    "\n",
    "def plot_history(history):\n",
    "    hist = pd.DataFrame(history.history)\n",
    "    hist['epoch']=history.epoch\n",
    "    \n",
    "    plt.figure()\n",
    "    plt.figure(figsize=(3, 2), dpi = 190)\n",
    "    plt.rc('text', usetex=True)\n",
    "    plt.rc('font', family = 'serif')\n",
    "    plt.xlabel('Epoch', fontsize=8)\n",
    "    plt.ylabel('Mean Abs Error [log$_{10}(\\it{k})$]', fontsize=8)\n",
    "    plt.plot(hist['epoch'], hist['mae'],\n",
    "             label = 'Train Error', c = 'blue', linewidth=1)\n",
    "    plt.plot(hist['epoch'], hist['val_mae'],\n",
    "             label = 'Val Error', c = 'red', linewidth=1)\n",
    "    plt.legend(prop={'size': 8})\n",
    "    plt.tick_params(direction = \"in\", width = 0.3, labelsize=8)\n",
    "    plt.ylim([-0.5,3])\n",
    "\n",
    "    plt.figure()\n",
    "    plt.figure(figsize=(3, 2), dpi = 190)\n",
    "    plt.rc('text', usetex=True)\n",
    "    plt.rc('font', family = 'serif')\n",
    "    plt.xlabel('Epoch', fontsize=8)\n",
    "    plt.ylabel('Mean Square Error [log$_{10}(\\it{k})$$^2$]', fontsize=8)\n",
    "    plt.plot(hist['epoch'], hist['mse'],\n",
    "            label='Train Error', c = 'blue', linewidth=1)\n",
    "    plt.plot(hist['epoch'], hist['val_mse'],\n",
    "            label = 'Val Error', c = 'red', linewidth=1)\n",
    "    plt.legend(prop={'size': 8})\n",
    "    plt.tick_params(direction = \"in\", width = 0.3, labelsize=8)\n",
    "    plt.ylim([-1,9])\n",
    "    \n",
    "    \n",
    "plot_history(history)\n",
    "\n",
    "\n",
    "# model = build_model()\n",
    "\n",
    "loss, mae, mse = model.evaluate(normed_test_data, y_test_k, verbose=0)\n"
   ]
  },
  {
   "cell_type": "code",
   "execution_count": 18,
   "metadata": {
    "scrolled": false
   },
   "outputs": [
    {
     "name": "stdout",
     "output_type": "stream",
     "text": [
      "WARNING:tensorflow:Falling back from v2 loop because of error: Failed to find data adapter that can handle input: <class 'pandas.core.frame.DataFrame'>, <class 'NoneType'>\n",
      "Testing set Mean Abs Error:  0.45 k\n",
      "Testing set Mean Squared Error:  0.22 k\n",
      "Testing set loss:  0.22 k\n"
     ]
    },
    {
     "data": {
      "text/plain": [
       "<Figure size 432x288 with 0 Axes>"
      ]
     },
     "metadata": {},
     "output_type": "display_data"
    },
    {
     "data": {
      "image/png": "[encoded data removed]",
      "text/plain": [
       "<Figure size 570x380 with 1 Axes>"
      ]
     },
     "metadata": {
      "needs_background": "light"
     },
     "output_type": "display_data"
    }
   ],
   "source": [
    "test_predictions = model.predict(normed_test_data).flatten()\n",
    "\n",
    "plt.figure()\n",
    "plt.figure(figsize=(3, 2), dpi = 190)\n",
    "plt.scatter(y_test_k, test_predictions, c = crimson, s=5)\n",
    "plt.rc('text', usetex=True)\n",
    "plt.rc('font', family = 'serif')\n",
    "plt.xlabel(r'True Values [log$_{10}(\\it{k})$]', fontsize=8)\n",
    "plt.ylabel(r'Predictions [log$_{10}(\\it{k})$]', fontsize=8)\n",
    "plt.tick_params(direction = \"in\", width = 0.3, labelsize=8)\n",
    "# plt.axis('equal')\n",
    "# plt.axis('square')\n",
    "# plt.xlim([-10, plt.xlim()[3]])\n",
    "# plt.ylim([-10, plt.ylim()[3]])\n",
    "_ = plt.plot([0, -5], [0, -5],c = 'blue')\n",
    "\n",
    "print('Testing set Mean Abs Error: {:5.2f} k'.format(mae))\n",
    "print('Testing set Mean Squared Error: {:5.2f} k'.format(mse))\n",
    "print('Testing set loss: {:5.2f} k'.format(loss))"
   ]
  },
  {
   "cell_type": "code",
   "execution_count": null,
   "metadata": {},
   "outputs": [],
   "source": []
  },
  {
   "cell_type": "code",
   "execution_count": null,
   "metadata": {},
   "outputs": [],
   "source": []
  },
  {
   "cell_type": "code",
   "execution_count": null,
   "metadata": {},
   "outputs": [],
   "source": []
  },
  {
   "cell_type": "markdown",
   "metadata": {},
   "source": [
    "\n",
    "### With early stopping"
   ]
  },
  {
   "cell_type": "code",
   "execution_count": 19,
   "metadata": {},
   "outputs": [],
   "source": [
    "# model = build_model()\n",
    "\n",
    "# early_stop = keras.callbacks.EarlyStopping(monitor='val_loss', patience=5)\n",
    "\n",
    "# history = model.fit(normed_train_data, y_train_k, epochs=EPOCHS,\n",
    "#                    validation_split = 0.2, verbose=0, callbacks=[early_stop, PrintDot()])\n",
    "\n",
    "# plot_history(history)\n",
    "\n",
    "# loss, mae, mse = model.evaluate(normed_test_data, y_test_k, verbose=0)"
   ]
  },
  {
   "cell_type": "code",
   "execution_count": null,
   "metadata": {},
   "outputs": [],
   "source": []
  },
  {
   "cell_type": "code",
   "execution_count": 20,
   "metadata": {},
   "outputs": [],
   "source": [
    "# test_predictions = model.predict(normed_test_data).flatten()\n",
    "\n",
    "# plt.scatter(y_test_k, test_predictions)\n",
    "# plt.xlabel('True Values [k]')\n",
    "# plt.ylabel('Predictions [k]')\n",
    "# # plt.axis('equal')\n",
    "# # plt.axis('square')\n",
    "# # plt.xlim([-10, plt.xlim()[3]])\n",
    "# # plt.ylim([-10, plt.ylim()[3]])\n",
    "# _ = plt.plot([0, -8], [0, -8])\n",
    "\n",
    "# print('Testing set Mean Abs Error: {:5.2f} k'.format(mae))\n",
    "# print('Testing set Mean Squared Error: {:5.2f} k'.format(mse))\n",
    "# print('Testing set loss: {:5.2f} k'.format(loss))"
   ]
  },
  {
   "cell_type": "code",
   "execution_count": 21,
   "metadata": {},
   "outputs": [],
   "source": [
    "# error = test_predictions-y_test_k\n",
    "# plt.hist(error, bins = 10)\n",
    "# plt.xlabel('Prediction Error [k]')\n",
    "# _ = plt.ylabel('Count')"
   ]
  },
  {
   "cell_type": "code",
   "execution_count": null,
   "metadata": {},
   "outputs": [],
   "source": []
  }
 ],
 "metadata": {
  "kernelspec": {
   "display_name": "NRT",
   "language": "python",
   "name": "nrt"
  },
  "language_info": {
   "codemirror_mode": {
    "name": "ipython",
    "version": 3
   },
   "file_extension": ".py",
   "mimetype": "text/x-python",
   "name": "python",
   "nbconvert_exporter": "python",
   "pygments_lexer": "ipython3",
   "version": "3.7.7"
  }
 },
 "nbformat": 4,
 "nbformat_minor": 4
}
