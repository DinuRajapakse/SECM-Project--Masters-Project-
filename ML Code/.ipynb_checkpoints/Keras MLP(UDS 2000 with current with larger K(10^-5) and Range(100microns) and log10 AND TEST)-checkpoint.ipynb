{
 "cells": [
  {
   "cell_type": "markdown",
   "metadata": {},
   "source": [
    "# Importing needed libraries/packages"
   ]
  },
  {
   "cell_type": "code",
   "execution_count": 1,
   "metadata": {},
   "outputs": [
    {
     "name": "stdout",
     "output_type": "stream",
     "text": [
      "2.0.0\n"
     ]
    }
   ],
   "source": [
    "import pandas as pd\n",
    "import tensorflow as tf\n",
    "tf.random.set_seed(2)\n",
    "from tensorflow import keras\n",
    "from tensorflow.keras import layers\n",
    "from tensorflow.keras import Model\n",
    "import numpy as np\n",
    "import matplotlib.pyplot as plt\n",
    "from numpy.random import seed\n",
    "seed(1)\n",
    "\n",
    "\n",
    "print(tf.__version__)"
   ]
  },
  {
   "cell_type": "markdown",
   "metadata": {},
   "source": [
    "# Importing the data set and creating the columns of the data set for the model"
   ]
  },
  {
   "cell_type": "code",
   "execution_count": 2,
   "metadata": {},
   "outputs": [
    {
     "name": "stdout",
     "output_type": "stream",
     "text": [
      "['k', 'x0', 'x1', 'x2', 'x3', 'x4', 'x5', 'x6', 'x7', 'x8', 'x9', 'x10', 'x11', 'x12', 'x13', 'x14', 'x15', 'x16', 'x17', 'x18', 'x19', 'x20', 'x21', 'x22', 'x23', 'x24', 'x25', 'x26', 'x27', 'x28', 'x29', 'x30', 'x31', 'x32', 'x33', 'x34', 'x35', 'x36', 'x37', 'x38', 'x39', 'x40', 'x41', 'x42', 'x43', 'x44', 'x45', 'x46', 'x47', 'x48', 'x49', 'x50', 'x51', 'x52', 'x53', 'x54', 'x55', 'x56', 'x57', 'x58', 'x59', 'x60', 'x61', 'x62', 'x63', 'x64', 'x65', 'x66', 'x67', 'x68', 'x69', 'x70', 'x71', 'x72', 'x73', 'x74', 'x75', 'x76', 'x77', 'x78', 'x79', 'x80', 'x81', 'x82', 'x83', 'x84', 'x85', 'x86', 'x87', 'x88', 'x89', 'x90', 'x91', 'x92', 'x93', 'x94', 'x95', 'x96', 'x97', 'x98', 'x99', 'x100', 'x101', 'x102', 'x103', 'x104', 'x105', 'x106', 'x107', 'x108', 'x109', 'x110', 'x111', 'x112', 'x113', 'x114', 'x115', 'x116', 'x117', 'x118', 'x119', 'x120', 'x121', 'x122', 'x123', 'x124', 'x125', 'x126', 'x127', 'x128', 'x129', 'x130', 'x131', 'x132', 'x133', 'x134', 'x135', 'x136', 'x137', 'x138', 'x139', 'x140', 'x141', 'x142', 'x143', 'x144', 'x145', 'x146', 'x147', 'x148', 'x149']\n",
      "\n",
      " 2250\n"
     ]
    }
   ],
   "source": [
    "df = pd.read_csv('UDS5 (csv).csv')\n",
    "\n",
    "\n",
    "# creating the columns of the formatted data set (150 columns)\n",
    "column_string = 'k, '\n",
    "\n",
    "for x in range(150):\n",
    "    column_string += 'x'+str(x)+', '\n",
    "column_string = column_string[:-2]\n",
    "column_names = column_string.split(', ')\n",
    "print(column_names)\n",
    "\n",
    "# adding all unique k values from the imported dataset to a list\n",
    "k_values=df.k_.unique()\n",
    "print('\\n',len(k_values))"
   ]
  },
  {
   "cell_type": "markdown",
   "metadata": {},
   "source": [
    "# Creating the dataframe \n",
    "### This dataframe will be the input for the model"
   ]
  },
  {
   "cell_type": "code",
   "execution_count": 3,
   "metadata": {},
   "outputs": [
    {
     "name": "stdout",
     "output_type": "stream",
     "text": [
      "\n",
      " 2250\n"
     ]
    },
    {
     "data": {
      "text/html": [
       "<div>\n",
       "<style scoped>\n",
       "    .dataframe tbody tr th:only-of-type {\n",
       "        vertical-align: middle;\n",
       "    }\n",
       "\n",
       "    .dataframe tbody tr th {\n",
       "        vertical-align: top;\n",
       "    }\n",
       "\n",
       "    .dataframe thead th {\n",
       "        text-align: right;\n",
       "    }\n",
       "</style>\n",
       "<table border=\"1\" class=\"dataframe\">\n",
       "  <thead>\n",
       "    <tr style=\"text-align: right;\">\n",
       "      <th></th>\n",
       "      <th>k</th>\n",
       "      <th>x0</th>\n",
       "      <th>x1</th>\n",
       "      <th>x2</th>\n",
       "      <th>x3</th>\n",
       "      <th>x4</th>\n",
       "      <th>x5</th>\n",
       "      <th>x6</th>\n",
       "      <th>x7</th>\n",
       "      <th>x8</th>\n",
       "      <th>...</th>\n",
       "      <th>x140</th>\n",
       "      <th>x141</th>\n",
       "      <th>x142</th>\n",
       "      <th>x143</th>\n",
       "      <th>x144</th>\n",
       "      <th>x145</th>\n",
       "      <th>x146</th>\n",
       "      <th>x147</th>\n",
       "      <th>x148</th>\n",
       "      <th>x149</th>\n",
       "    </tr>\n",
       "  </thead>\n",
       "  <tbody>\n",
       "    <tr>\n",
       "      <th>0</th>\n",
       "      <td>0.004040</td>\n",
       "      <td>0.923537</td>\n",
       "      <td>0.940256</td>\n",
       "      <td>0.953683</td>\n",
       "      <td>0.964571</td>\n",
       "      <td>0.973473</td>\n",
       "      <td>0.980807</td>\n",
       "      <td>0.986888</td>\n",
       "      <td>0.991959</td>\n",
       "      <td>0.996210</td>\n",
       "      <td>...</td>\n",
       "      <td>1.010434</td>\n",
       "      <td>1.010381</td>\n",
       "      <td>1.010328</td>\n",
       "      <td>1.010276</td>\n",
       "      <td>1.010224</td>\n",
       "      <td>1.010173</td>\n",
       "      <td>1.010122</td>\n",
       "      <td>1.010072</td>\n",
       "      <td>1.010022</td>\n",
       "      <td>1.009972</td>\n",
       "    </tr>\n",
       "    <tr>\n",
       "      <th>1</th>\n",
       "      <td>0.770000</td>\n",
       "      <td>1.207003</td>\n",
       "      <td>1.189589</td>\n",
       "      <td>1.174730</td>\n",
       "      <td>1.161923</td>\n",
       "      <td>1.150782</td>\n",
       "      <td>1.141014</td>\n",
       "      <td>1.132386</td>\n",
       "      <td>1.124716</td>\n",
       "      <td>1.117856</td>\n",
       "      <td>...</td>\n",
       "      <td>1.013737</td>\n",
       "      <td>1.013646</td>\n",
       "      <td>1.013555</td>\n",
       "      <td>1.013465</td>\n",
       "      <td>1.013377</td>\n",
       "      <td>1.013290</td>\n",
       "      <td>1.013204</td>\n",
       "      <td>1.013119</td>\n",
       "      <td>1.013035</td>\n",
       "      <td>1.012952</td>\n",
       "    </tr>\n",
       "    <tr>\n",
       "      <th>2</th>\n",
       "      <td>0.000346</td>\n",
       "      <td>0.810248</td>\n",
       "      <td>0.829565</td>\n",
       "      <td>0.846107</td>\n",
       "      <td>0.860379</td>\n",
       "      <td>0.872777</td>\n",
       "      <td>0.883615</td>\n",
       "      <td>0.893145</td>\n",
       "      <td>0.901568</td>\n",
       "      <td>0.909050</td>\n",
       "      <td>...</td>\n",
       "      <td>1.000081</td>\n",
       "      <td>1.000113</td>\n",
       "      <td>1.000144</td>\n",
       "      <td>1.000175</td>\n",
       "      <td>1.000205</td>\n",
       "      <td>1.000234</td>\n",
       "      <td>1.000263</td>\n",
       "      <td>1.000291</td>\n",
       "      <td>1.000319</td>\n",
       "      <td>1.000346</td>\n",
       "    </tr>\n",
       "    <tr>\n",
       "      <th>3</th>\n",
       "      <td>0.000606</td>\n",
       "      <td>0.863040</td>\n",
       "      <td>0.876248</td>\n",
       "      <td>0.887730</td>\n",
       "      <td>0.897770</td>\n",
       "      <td>0.906599</td>\n",
       "      <td>0.914401</td>\n",
       "      <td>0.921329</td>\n",
       "      <td>0.927507</td>\n",
       "      <td>0.933039</td>\n",
       "      <td>...</td>\n",
       "      <td>1.002595</td>\n",
       "      <td>1.002612</td>\n",
       "      <td>1.002628</td>\n",
       "      <td>1.002643</td>\n",
       "      <td>1.002659</td>\n",
       "      <td>1.002673</td>\n",
       "      <td>1.002688</td>\n",
       "      <td>1.002702</td>\n",
       "      <td>1.002715</td>\n",
       "      <td>1.002728</td>\n",
       "    </tr>\n",
       "    <tr>\n",
       "      <th>4</th>\n",
       "      <td>0.000286</td>\n",
       "      <td>0.545114</td>\n",
       "      <td>0.615261</td>\n",
       "      <td>0.670150</td>\n",
       "      <td>0.714031</td>\n",
       "      <td>0.749701</td>\n",
       "      <td>0.779099</td>\n",
       "      <td>0.803615</td>\n",
       "      <td>0.824273</td>\n",
       "      <td>0.841842</td>\n",
       "      <td>...</td>\n",
       "      <td>0.999298</td>\n",
       "      <td>0.999335</td>\n",
       "      <td>0.999372</td>\n",
       "      <td>0.999408</td>\n",
       "      <td>0.999444</td>\n",
       "      <td>0.999479</td>\n",
       "      <td>0.999513</td>\n",
       "      <td>0.999546</td>\n",
       "      <td>0.999579</td>\n",
       "      <td>0.999611</td>\n",
       "    </tr>\n",
       "    <tr>\n",
       "      <th>...</th>\n",
       "      <td>...</td>\n",
       "      <td>...</td>\n",
       "      <td>...</td>\n",
       "      <td>...</td>\n",
       "      <td>...</td>\n",
       "      <td>...</td>\n",
       "      <td>...</td>\n",
       "      <td>...</td>\n",
       "      <td>...</td>\n",
       "      <td>...</td>\n",
       "      <td>...</td>\n",
       "      <td>...</td>\n",
       "      <td>...</td>\n",
       "      <td>...</td>\n",
       "      <td>...</td>\n",
       "      <td>...</td>\n",
       "      <td>...</td>\n",
       "      <td>...</td>\n",
       "      <td>...</td>\n",
       "      <td>...</td>\n",
       "      <td>...</td>\n",
       "    </tr>\n",
       "    <tr>\n",
       "      <th>2245</th>\n",
       "      <td>0.222000</td>\n",
       "      <td>1.187644</td>\n",
       "      <td>1.173114</td>\n",
       "      <td>1.160568</td>\n",
       "      <td>1.149639</td>\n",
       "      <td>1.140044</td>\n",
       "      <td>1.131558</td>\n",
       "      <td>1.124006</td>\n",
       "      <td>1.117245</td>\n",
       "      <td>1.111160</td>\n",
       "      <td>...</td>\n",
       "      <td>1.013685</td>\n",
       "      <td>1.013595</td>\n",
       "      <td>1.013505</td>\n",
       "      <td>1.013416</td>\n",
       "      <td>1.013329</td>\n",
       "      <td>1.013243</td>\n",
       "      <td>1.013158</td>\n",
       "      <td>1.013074</td>\n",
       "      <td>1.012991</td>\n",
       "      <td>1.012909</td>\n",
       "    </tr>\n",
       "    <tr>\n",
       "      <th>2246</th>\n",
       "      <td>0.000778</td>\n",
       "      <td>0.764164</td>\n",
       "      <td>0.794513</td>\n",
       "      <td>0.819646</td>\n",
       "      <td>0.840683</td>\n",
       "      <td>0.858457</td>\n",
       "      <td>0.873601</td>\n",
       "      <td>0.886604</td>\n",
       "      <td>0.897844</td>\n",
       "      <td>0.907622</td>\n",
       "      <td>...</td>\n",
       "      <td>1.003780</td>\n",
       "      <td>1.003789</td>\n",
       "      <td>1.003797</td>\n",
       "      <td>1.003805</td>\n",
       "      <td>1.003813</td>\n",
       "      <td>1.003820</td>\n",
       "      <td>1.003827</td>\n",
       "      <td>1.003834</td>\n",
       "      <td>1.003840</td>\n",
       "      <td>1.003846</td>\n",
       "    </tr>\n",
       "    <tr>\n",
       "      <th>2247</th>\n",
       "      <td>0.000786</td>\n",
       "      <td>0.877087</td>\n",
       "      <td>0.889236</td>\n",
       "      <td>0.899804</td>\n",
       "      <td>0.909051</td>\n",
       "      <td>0.917184</td>\n",
       "      <td>0.924373</td>\n",
       "      <td>0.930757</td>\n",
       "      <td>0.936449</td>\n",
       "      <td>0.941545</td>\n",
       "      <td>...</td>\n",
       "      <td>1.003832</td>\n",
       "      <td>1.003840</td>\n",
       "      <td>1.003847</td>\n",
       "      <td>1.003855</td>\n",
       "      <td>1.003862</td>\n",
       "      <td>1.003868</td>\n",
       "      <td>1.003874</td>\n",
       "      <td>1.003880</td>\n",
       "      <td>1.003886</td>\n",
       "      <td>1.003892</td>\n",
       "    </tr>\n",
       "    <tr>\n",
       "      <th>2248</th>\n",
       "      <td>0.000462</td>\n",
       "      <td>0.563267</td>\n",
       "      <td>0.631808</td>\n",
       "      <td>0.685422</td>\n",
       "      <td>0.728251</td>\n",
       "      <td>0.763033</td>\n",
       "      <td>0.791666</td>\n",
       "      <td>0.815517</td>\n",
       "      <td>0.835589</td>\n",
       "      <td>0.852637</td>\n",
       "      <td>...</td>\n",
       "      <td>1.001329</td>\n",
       "      <td>1.001355</td>\n",
       "      <td>1.001381</td>\n",
       "      <td>1.001406</td>\n",
       "      <td>1.001430</td>\n",
       "      <td>1.001454</td>\n",
       "      <td>1.001477</td>\n",
       "      <td>1.001499</td>\n",
       "      <td>1.001521</td>\n",
       "      <td>1.001543</td>\n",
       "    </tr>\n",
       "    <tr>\n",
       "      <th>2249</th>\n",
       "      <td>0.000932</td>\n",
       "      <td>0.309442</td>\n",
       "      <td>0.459444</td>\n",
       "      <td>0.562606</td>\n",
       "      <td>0.638801</td>\n",
       "      <td>0.697199</td>\n",
       "      <td>0.743066</td>\n",
       "      <td>0.779763</td>\n",
       "      <td>0.809567</td>\n",
       "      <td>0.834085</td>\n",
       "      <td>...</td>\n",
       "      <td>1.004642</td>\n",
       "      <td>1.004644</td>\n",
       "      <td>1.004647</td>\n",
       "      <td>1.004648</td>\n",
       "      <td>1.004650</td>\n",
       "      <td>1.004651</td>\n",
       "      <td>1.004651</td>\n",
       "      <td>1.004652</td>\n",
       "      <td>1.004652</td>\n",
       "      <td>1.004652</td>\n",
       "    </tr>\n",
       "  </tbody>\n",
       "</table>\n",
       "<p>2250 rows × 151 columns</p>\n",
       "</div>"
      ],
      "text/plain": [
       "             k        x0        x1        x2        x3        x4        x5  \\\n",
       "0     0.004040  0.923537  0.940256  0.953683  0.964571  0.973473  0.980807   \n",
       "1     0.770000  1.207003  1.189589  1.174730  1.161923  1.150782  1.141014   \n",
       "2     0.000346  0.810248  0.829565  0.846107  0.860379  0.872777  0.883615   \n",
       "3     0.000606  0.863040  0.876248  0.887730  0.897770  0.906599  0.914401   \n",
       "4     0.000286  0.545114  0.615261  0.670150  0.714031  0.749701  0.779099   \n",
       "...        ...       ...       ...       ...       ...       ...       ...   \n",
       "2245  0.222000  1.187644  1.173114  1.160568  1.149639  1.140044  1.131558   \n",
       "2246  0.000778  0.764164  0.794513  0.819646  0.840683  0.858457  0.873601   \n",
       "2247  0.000786  0.877087  0.889236  0.899804  0.909051  0.917184  0.924373   \n",
       "2248  0.000462  0.563267  0.631808  0.685422  0.728251  0.763033  0.791666   \n",
       "2249  0.000932  0.309442  0.459444  0.562606  0.638801  0.697199  0.743066   \n",
       "\n",
       "            x6        x7        x8  ...      x140      x141      x142  \\\n",
       "0     0.986888  0.991959  0.996210  ...  1.010434  1.010381  1.010328   \n",
       "1     1.132386  1.124716  1.117856  ...  1.013737  1.013646  1.013555   \n",
       "2     0.893145  0.901568  0.909050  ...  1.000081  1.000113  1.000144   \n",
       "3     0.921329  0.927507  0.933039  ...  1.002595  1.002612  1.002628   \n",
       "4     0.803615  0.824273  0.841842  ...  0.999298  0.999335  0.999372   \n",
       "...        ...       ...       ...  ...       ...       ...       ...   \n",
       "2245  1.124006  1.117245  1.111160  ...  1.013685  1.013595  1.013505   \n",
       "2246  0.886604  0.897844  0.907622  ...  1.003780  1.003789  1.003797   \n",
       "2247  0.930757  0.936449  0.941545  ...  1.003832  1.003840  1.003847   \n",
       "2248  0.815517  0.835589  0.852637  ...  1.001329  1.001355  1.001381   \n",
       "2249  0.779763  0.809567  0.834085  ...  1.004642  1.004644  1.004647   \n",
       "\n",
       "          x143      x144      x145      x146      x147      x148      x149  \n",
       "0     1.010276  1.010224  1.010173  1.010122  1.010072  1.010022  1.009972  \n",
       "1     1.013465  1.013377  1.013290  1.013204  1.013119  1.013035  1.012952  \n",
       "2     1.000175  1.000205  1.000234  1.000263  1.000291  1.000319  1.000346  \n",
       "3     1.002643  1.002659  1.002673  1.002688  1.002702  1.002715  1.002728  \n",
       "4     0.999408  0.999444  0.999479  0.999513  0.999546  0.999579  0.999611  \n",
       "...        ...       ...       ...       ...       ...       ...       ...  \n",
       "2245  1.013416  1.013329  1.013243  1.013158  1.013074  1.012991  1.012909  \n",
       "2246  1.003805  1.003813  1.003820  1.003827  1.003834  1.003840  1.003846  \n",
       "2247  1.003855  1.003862  1.003868  1.003874  1.003880  1.003886  1.003892  \n",
       "2248  1.001406  1.001430  1.001454  1.001477  1.001499  1.001521  1.001543  \n",
       "2249  1.004648  1.004650  1.004651  1.004651  1.004652  1.004652  1.004652  \n",
       "\n",
       "[2250 rows x 151 columns]"
      ]
     },
     "execution_count": 3,
     "metadata": {},
     "output_type": "execute_result"
    }
   ],
   "source": [
    "k_values=df.k_.unique() #this was done in the above cell.\n",
    "print('\\n',len(k_values))\n",
    "\n",
    "for index_k, k in enumerate(k_values):\n",
    "    current_values = df[(df['k_']==k)]['c'].values.tolist()\n",
    "    row = [k]\n",
    "    \n",
    "    for index_c, current in enumerate(current_values):\n",
    "        row.extend([current_values[index_c]])\n",
    "        \n",
    "    row_df = pd.DataFrame([row], columns=column_names)\n",
    "    \n",
    "    if index_k == 0:\n",
    "        final_df = row_df\n",
    "    else:\n",
    "        final_df = final_df.append(row_df)\n",
    "\n",
    "final_df = final_df.reset_index(drop = True)\n",
    "final_df"
   ]
  },
  {
   "cell_type": "markdown",
   "metadata": {},
   "source": [
    "# Creating the training set and the test set"
   ]
  },
  {
   "cell_type": "code",
   "execution_count": 4,
   "metadata": {},
   "outputs": [
    {
     "data": {
      "text/plain": [
       "0      -2.393619\n",
       "5      -0.170053\n",
       "6      -3.333482\n",
       "7      -0.069560\n",
       "16     -0.147520\n",
       "          ...   \n",
       "2226   -4.095826\n",
       "2235   -2.137869\n",
       "2239   -3.489455\n",
       "2241   -0.214670\n",
       "2247   -3.104577\n",
       "Name: k, Length: 450, dtype: float64"
      ]
     },
     "execution_count": 4,
     "metadata": {},
     "output_type": "execute_result"
    }
   ],
   "source": [
    "final_df = final_df.reset_index(drop = True)\n",
    "\n",
    "# splitting the train and test set to an 80/20 ratio\n",
    "# note: the output column is still included in the test AND the trainig set. It will be removed later\n",
    "train_dataset = final_df.sample(frac=0.8, random_state=115)\n",
    "test_dataset = final_df.drop(train_dataset.index)\n",
    "# train_dataset\n",
    "\n",
    "# removing the output value from the training set\n",
    "# note: now train_dataset and test_dataset does not inlude the k values. \n",
    "y_train_k = train_dataset.pop('k')\n",
    "\n",
    "# removing the output value from the testing set\n",
    "y_test_k = test_dataset.pop('k')\n",
    "\n",
    "# converting the training and testing k values to log10 values\n",
    "y_train_k = (np.log10(y_train_k.to_frame())).squeeze()\n",
    "y_test_k  = (np.log10(y_test_k.to_frame())).squeeze()\n",
    "\n",
    "# stats of the train set. This is needed to normalize the training test (cell below)\n",
    "train_stats = train_dataset.describe()\n",
    "train_stats = train_stats.transpose()\n",
    "\n",
    "# stats of the test set. This is needed to normalize the test test (cell below)\n",
    "test_stats = test_dataset.describe()\n",
    "test_stats = test_stats.transpose()\n",
    "\n",
    "# what the test k values look like\n",
    "y_test_k"
   ]
  },
  {
   "cell_type": "markdown",
   "metadata": {},
   "source": [
    "# Normalizing the input values (not including the k values) of both train and test sets. "
   ]
  },
  {
   "cell_type": "code",
   "execution_count": 5,
   "metadata": {},
   "outputs": [],
   "source": [
    "def norm(x):\n",
    "    return(x-train_stats['mean']) / train_stats['std'] #standardize\n",
    "#     return(x-train_stats['min']) / (train_stats['max'] -  train_stats['min']) #normalize\n",
    "normed_train_data = norm(train_dataset)\n",
    "normed_test_data = norm(test_dataset)"
   ]
  },
  {
   "cell_type": "markdown",
   "metadata": {},
   "source": [
    "# Building the model"
   ]
  },
  {
   "cell_type": "code",
   "execution_count": 6,
   "metadata": {},
   "outputs": [
    {
     "name": "stdout",
     "output_type": "stream",
     "text": [
      "<class 'tensorflow.python.keras.optimizer_v2.adam.Adam'> ********\n",
      "Model: \"sequential\"\n",
      "_________________________________________________________________\n",
      "Layer (type)                 Output Shape              Param #   \n",
      "=================================================================\n",
      "dense (Dense)                (None, 10)                1510      \n",
      "_________________________________________________________________\n",
      "dense_1 (Dense)              (None, 10)                110       \n",
      "_________________________________________________________________\n",
      "dense_2 (Dense)              (None, 10)                110       \n",
      "_________________________________________________________________\n",
      "dense_3 (Dense)              (None, 1)                 11        \n",
      "=================================================================\n",
      "Total params: 1,741\n",
      "Trainable params: 1,741\n",
      "Non-trainable params: 0\n",
      "_________________________________________________________________\n",
      "None\n",
      "WARNING:tensorflow:Falling back from v2 loop because of error: Failed to find data adapter that can handle input: <class 'pandas.core.frame.DataFrame'>, <class 'NoneType'>\n"
     ]
    },
    {
     "data": {
      "text/plain": [
       "array([[ 0.02830564],\n",
       "       [-0.2025903 ],\n",
       "       [-0.03047249],\n",
       "       [-0.08982959],\n",
       "       [ 0.10598358],\n",
       "       [-0.20373945],\n",
       "       [-0.08417255],\n",
       "       [ 0.02500843],\n",
       "       [-0.1106321 ],\n",
       "       [ 0.02791528]], dtype=float32)"
      ]
     },
     "execution_count": 6,
     "metadata": {},
     "output_type": "execute_result"
    }
   ],
   "source": [
    "def build_model():\n",
    "    model = keras.Sequential([\n",
    "        layers.Dense(10, activation = tf.nn.relu, input_shape=[len(train_dataset.keys())]),#8 relu\n",
    "        layers.Dense(10, activation = tf.nn.relu),\n",
    "        layers.Dense(10, activation = tf.nn.relu),\n",
    "        layers.Dense(1)\n",
    "    ])\n",
    "    optimizer = tf.keras.optimizers.Adam(0.001) #optimizer is Adam.\n",
    "\n",
    "    model.compile(loss = 'mse',\n",
    "                  optimizer=optimizer,\n",
    "                  metrics=['mae', 'mse']) #evaluation metrics of the model\n",
    "    print(type(optimizer), \"********\")\n",
    "    return model\n",
    "\n",
    "\n",
    "model = build_model()\n",
    "\n",
    "print(model.summary())\n",
    "\n",
    "example_batch = normed_train_data[:10]\n",
    "example_result = model.predict(example_batch)\n",
    "example_result"
   ]
  },
  {
   "cell_type": "code",
   "execution_count": 7,
   "metadata": {},
   "outputs": [
    {
     "name": "stdout",
     "output_type": "stream",
     "text": [
      "WARNING:tensorflow:Falling back from v2 loop because of error: Failed to find data adapter that can handle input: <class 'pandas.core.frame.DataFrame'>, <class 'NoneType'>\n",
      ".........."
     ]
    }
   ],
   "source": [
    "class PrintDot(keras.callbacks.Callback):\n",
    "    def on_epoch_end(self, epoch, logs):\n",
    "        if epoch % 100==0:\n",
    "            print('.',end='')\n",
    "EPOCHS=1000\n",
    "\n",
    "history = model.fit(\n",
    "    normed_train_data, y_train_k,\n",
    "    epochs=EPOCHS, validation_split = 0.2, verbose=0,\n",
    "    callbacks=[PrintDot()])"
   ]
  },
  {
   "cell_type": "code",
   "execution_count": 8,
   "metadata": {},
   "outputs": [
    {
     "data": {
      "text/plain": [
       "(1800,)"
      ]
     },
     "execution_count": 8,
     "metadata": {},
     "output_type": "execute_result"
    }
   ],
   "source": [
    "normed_train_data.shape\n",
    "y_train_k.shape"
   ]
  },
  {
   "cell_type": "markdown",
   "metadata": {},
   "source": [
    "# Looking at evaluation metrics of the last 5 epochs. "
   ]
  },
  {
   "cell_type": "code",
   "execution_count": 9,
   "metadata": {},
   "outputs": [
    {
     "data": {
      "text/html": [
       "<div>\n",
       "<style scoped>\n",
       "    .dataframe tbody tr th:only-of-type {\n",
       "        vertical-align: middle;\n",
       "    }\n",
       "\n",
       "    .dataframe tbody tr th {\n",
       "        vertical-align: top;\n",
       "    }\n",
       "\n",
       "    .dataframe thead th {\n",
       "        text-align: right;\n",
       "    }\n",
       "</style>\n",
       "<table border=\"1\" class=\"dataframe\">\n",
       "  <thead>\n",
       "    <tr style=\"text-align: right;\">\n",
       "      <th></th>\n",
       "      <th>loss</th>\n",
       "      <th>mae</th>\n",
       "      <th>mse</th>\n",
       "      <th>val_loss</th>\n",
       "      <th>val_mae</th>\n",
       "      <th>val_mse</th>\n",
       "      <th>epoch</th>\n",
       "    </tr>\n",
       "  </thead>\n",
       "  <tbody>\n",
       "    <tr>\n",
       "      <th>995</th>\n",
       "      <td>0.028937</td>\n",
       "      <td>0.110586</td>\n",
       "      <td>0.028937</td>\n",
       "      <td>0.026712</td>\n",
       "      <td>0.098443</td>\n",
       "      <td>0.026712</td>\n",
       "      <td>995</td>\n",
       "    </tr>\n",
       "    <tr>\n",
       "      <th>996</th>\n",
       "      <td>0.028538</td>\n",
       "      <td>0.108098</td>\n",
       "      <td>0.028538</td>\n",
       "      <td>0.047111</td>\n",
       "      <td>0.143619</td>\n",
       "      <td>0.047111</td>\n",
       "      <td>996</td>\n",
       "    </tr>\n",
       "    <tr>\n",
       "      <th>997</th>\n",
       "      <td>0.037842</td>\n",
       "      <td>0.122336</td>\n",
       "      <td>0.037842</td>\n",
       "      <td>0.023987</td>\n",
       "      <td>0.100615</td>\n",
       "      <td>0.023987</td>\n",
       "      <td>997</td>\n",
       "    </tr>\n",
       "    <tr>\n",
       "      <th>998</th>\n",
       "      <td>0.034762</td>\n",
       "      <td>0.124940</td>\n",
       "      <td>0.034762</td>\n",
       "      <td>0.027526</td>\n",
       "      <td>0.110552</td>\n",
       "      <td>0.027526</td>\n",
       "      <td>998</td>\n",
       "    </tr>\n",
       "    <tr>\n",
       "      <th>999</th>\n",
       "      <td>0.030393</td>\n",
       "      <td>0.115418</td>\n",
       "      <td>0.030393</td>\n",
       "      <td>0.048265</td>\n",
       "      <td>0.124824</td>\n",
       "      <td>0.048265</td>\n",
       "      <td>999</td>\n",
       "    </tr>\n",
       "  </tbody>\n",
       "</table>\n",
       "</div>"
      ],
      "text/plain": [
       "         loss       mae       mse  val_loss   val_mae   val_mse  epoch\n",
       "995  0.028937  0.110586  0.028937  0.026712  0.098443  0.026712    995\n",
       "996  0.028538  0.108098  0.028538  0.047111  0.143619  0.047111    996\n",
       "997  0.037842  0.122336  0.037842  0.023987  0.100615  0.023987    997\n",
       "998  0.034762  0.124940  0.034762  0.027526  0.110552  0.027526    998\n",
       "999  0.030393  0.115418  0.030393  0.048265  0.124824  0.048265    999"
      ]
     },
     "execution_count": 9,
     "metadata": {},
     "output_type": "execute_result"
    }
   ],
   "source": [
    "hist = pd.DataFrame(history.history)\n",
    "hist['epoch'] = history.epoch\n",
    "hist.tail()"
   ]
  },
  {
   "cell_type": "markdown",
   "metadata": {},
   "source": [
    "### W/O early stopping"
   ]
  },
  {
   "cell_type": "code",
   "execution_count": 10,
   "metadata": {},
   "outputs": [
    {
     "name": "stdout",
     "output_type": "stream",
     "text": [
      "WARNING:tensorflow:Falling back from v2 loop because of error: Failed to find data adapter that can handle input: <class 'pandas.core.frame.DataFrame'>, <class 'NoneType'>\n"
     ]
    },
    {
     "data": {
      "text/plain": [
       "<Figure size 432x288 with 0 Axes>"
      ]
     },
     "metadata": {},
     "output_type": "display_data"
    },
    {
     "data": {
      "image/png": "[encoded data removed]",
      "text/plain": [
       "<Figure size 570x380 with 1 Axes>"
      ]
     },
     "metadata": {
      "needs_background": "light"
     },
     "output_type": "display_data"
    },
    {
     "data": {
      "text/plain": [
       "<Figure size 432x288 with 0 Axes>"
      ]
     },
     "metadata": {},
     "output_type": "display_data"
    },
    {
     "data": {
      "image/png": "[encoded data removed]",
      "text/plain": [
       "<Figure size 570x380 with 1 Axes>"
      ]
     },
     "metadata": {
      "needs_background": "light"
     },
     "output_type": "display_data"
    }
   ],
   "source": [
    "crimson = [(0.91, 0, 0.05)]\n",
    "KU_blue = [(0.5, 0.5, 0.5)]\n",
    "\n",
    "def plot_history(history):\n",
    "    hist = pd.DataFrame(history.history)\n",
    "    hist['epoch']=history.epoch\n",
    "    \n",
    "    plt.figure()\n",
    "    plt.figure(figsize=(3, 2), dpi = 190)\n",
    "    plt.rc('text', usetex=True)\n",
    "    plt.rc('font', family = 'serif')\n",
    "    plt.xlabel('Epoch',fontsize=8)\n",
    "    plt.ylabel('Mean Abs Error [log$_{10}(\\it{k})$]', fontsize=8)\n",
    "    plt.plot(hist['epoch'], hist['mae'],\n",
    "             label = 'Train Error', c = 'blue', linewidth=1)\n",
    "    plt.plot(hist['epoch'], hist['val_mae'],\n",
    "             label = 'Val Error', c = 'red', linewidth=1)\n",
    "    plt.legend(prop={'size': 8})\n",
    "    plt.tick_params(direction = \"in\", width = 0.3, labelsize=8)\n",
    "    plt.ylim([0,1.6])\n",
    "    \n",
    "    plt.figure()\n",
    "    plt.figure(figsize=(3, 2), dpi = 190)\n",
    "    plt.rc('text', usetex=True)\n",
    "    plt.rc('font', family = 'serif')\n",
    "    plt.xlabel('Epoch',fontsize=8)\n",
    "    plt.ylabel('Mean Square Error [log$_{10}(\\it{k})$$^2$]', fontsize=8)\n",
    "    plt.plot(hist['epoch'], hist['mse'],\n",
    "            label='Train Error', c = 'blue', linewidth=1)\n",
    "    plt.plot(hist['epoch'], hist['val_mse'],\n",
    "            label = 'Val Error', c = 'red', linewidth=1)\n",
    "    plt.legend(prop={'size': 8})\n",
    "    plt.tick_params(direction = \"in\", width = 0.3, labelsize=8)\n",
    "    plt.ylim([-0.5,3.5])\n",
    "    \n",
    "plot_history(history)\n",
    "loss, mae, mse = model.evaluate(normed_test_data, y_test_k, verbose=0)\n"
   ]
  },
  {
   "cell_type": "code",
   "execution_count": 11,
   "metadata": {},
   "outputs": [
    {
     "name": "stdout",
     "output_type": "stream",
     "text": [
      "WARNING:tensorflow:Falling back from v2 loop because of error: Failed to find data adapter that can handle input: <class 'pandas.core.frame.DataFrame'>, <class 'NoneType'>\n",
      "Testing set Mean Abs Error:  0.14 k\n",
      "Testing set Mean Squared Error:  0.06 k\n",
      "Testing set loss:  0.06 k\n"
     ]
    },
    {
     "data": {
      "text/plain": [
       "<Figure size 432x288 with 0 Axes>"
      ]
     },
     "metadata": {},
     "output_type": "display_data"
    },
    {
     "data": {
      "image/png": "[encoded data removed]",
      "text/plain": [
       "<Figure size 570x380 with 1 Axes>"
      ]
     },
     "metadata": {
      "needs_background": "light"
     },
     "output_type": "display_data"
    }
   ],
   "source": [
    "test_predictions = model.predict(normed_test_data).flatten()\n",
    "\n",
    "plt.figure()\n",
    "plt.figure(figsize=(3, 2), dpi = 190)\n",
    "plt.scatter(y_test_k, test_predictions, c = crimson, s=5)\n",
    "plt.rc('text', usetex=True)\n",
    "plt.rc('font', family = 'serif')\n",
    "plt.xlabel(r'True Values [log$_{10}(\\it{k})$]', fontsize=8)\n",
    "plt.ylabel(r'Predictions [log$_{10}(\\it{k})$]', fontsize=8)\n",
    "plt.tick_params(direction = \"in\", width = 0.3, labelsize=8)\n",
    "_ = plt.plot([0, -5], [0, -5], 'blue', linewidth = 1)\n",
    "\n",
    "print('Testing set Mean Abs Error: {:5.2f} k'.format(mae))\n",
    "print('Testing set Mean Squared Error: {:5.2f} k'.format(mse))\n",
    "print('Testing set loss: {:5.2f} k'.format(loss))"
   ]
  },
  {
   "cell_type": "code",
   "execution_count": 12,
   "metadata": {},
   "outputs": [
    {
     "data": {
      "image/png": "[encoded data removed]",
      "text/plain": [
       "<Figure size 432x288 with 1 Axes>"
      ]
     },
     "metadata": {
      "needs_background": "light"
     },
     "output_type": "display_data"
    }
   ],
   "source": [
    "error = test_predictions-y_test_k\n",
    "plt.hist(error, bins = 10)\n",
    "plt.xlabel('Prediction Error [k]')\n",
    "_ = plt.ylabel('Count')"
   ]
  },
  {
   "cell_type": "markdown",
   "metadata": {},
   "source": [
    "# Creating the REAL data set to test the model on the real data."
   ]
  },
  {
   "cell_type": "code",
   "execution_count": 13,
   "metadata": {},
   "outputs": [
    {
     "name": "stdout",
     "output_type": "stream",
     "text": [
      "['k', 'x0', 'x1', 'x2', 'x3', 'x4', 'x5', 'x6', 'x7', 'x8', 'x9', 'x10', 'x11', 'x12', 'x13', 'x14', 'x15', 'x16', 'x17', 'x18', 'x19', 'x20', 'x21', 'x22', 'x23', 'x24', 'x25', 'x26', 'x27', 'x28', 'x29', 'x30', 'x31', 'x32', 'x33', 'x34', 'x35', 'x36', 'x37', 'x38', 'x39', 'x40', 'x41', 'x42', 'x43', 'x44', 'x45', 'x46', 'x47', 'x48', 'x49', 'x50', 'x51', 'x52', 'x53', 'x54', 'x55', 'x56', 'x57', 'x58', 'x59', 'x60', 'x61', 'x62', 'x63', 'x64', 'x65', 'x66', 'x67', 'x68', 'x69', 'x70', 'x71', 'x72', 'x73', 'x74', 'x75', 'x76', 'x77', 'x78', 'x79', 'x80', 'x81', 'x82', 'x83', 'x84', 'x85', 'x86', 'x87', 'x88', 'x89', 'x90', 'x91', 'x92', 'x93', 'x94', 'x95', 'x96', 'x97', 'x98', 'x99', 'x100', 'x101', 'x102', 'x103', 'x104', 'x105', 'x106', 'x107', 'x108', 'x109', 'x110', 'x111', 'x112', 'x113', 'x114', 'x115', 'x116', 'x117', 'x118', 'x119', 'x120', 'x121', 'x122', 'x123', 'x124', 'x125', 'x126', 'x127', 'x128', 'x129', 'x130', 'x131', 'x132', 'x133', 'x134', 'x135', 'x136', 'x137', 'x138', 'x139', 'x140', 'x141', 'x142', 'x143', 'x144', 'x145', 'x146', 'x147', 'x148', 'x149']\n",
      "\n",
      " 4\n"
     ]
    }
   ],
   "source": [
    "df = pd.read_csv('Trmd Test (-4 current csv).csv')\n",
    "\n",
    "column_string = 'k, '\n",
    "\n",
    "for x in range(150):\n",
    "    column_string += 'x'+str(x)+', '\n",
    "column_string = column_string[:-2]\n",
    "column_names = column_string.split(', ')\n",
    "\n",
    "print(column_names)\n",
    "\n",
    "k_values=df.k_.unique()\n",
    "print('\\n',len(k_values))"
   ]
  },
  {
   "cell_type": "code",
   "execution_count": 14,
   "metadata": {},
   "outputs": [
    {
     "name": "stdout",
     "output_type": "stream",
     "text": [
      "\n",
      " 4\n"
     ]
    },
    {
     "data": {
      "text/html": [
       "<div>\n",
       "<style scoped>\n",
       "    .dataframe tbody tr th:only-of-type {\n",
       "        vertical-align: middle;\n",
       "    }\n",
       "\n",
       "    .dataframe tbody tr th {\n",
       "        vertical-align: top;\n",
       "    }\n",
       "\n",
       "    .dataframe thead th {\n",
       "        text-align: right;\n",
       "    }\n",
       "</style>\n",
       "<table border=\"1\" class=\"dataframe\">\n",
       "  <thead>\n",
       "    <tr style=\"text-align: right;\">\n",
       "      <th></th>\n",
       "      <th>k</th>\n",
       "      <th>x0</th>\n",
       "      <th>x1</th>\n",
       "      <th>x2</th>\n",
       "      <th>x3</th>\n",
       "      <th>x4</th>\n",
       "      <th>x5</th>\n",
       "      <th>x6</th>\n",
       "      <th>x7</th>\n",
       "      <th>x8</th>\n",
       "      <th>...</th>\n",
       "      <th>x140</th>\n",
       "      <th>x141</th>\n",
       "      <th>x142</th>\n",
       "      <th>x143</th>\n",
       "      <th>x144</th>\n",
       "      <th>x145</th>\n",
       "      <th>x146</th>\n",
       "      <th>x147</th>\n",
       "      <th>x148</th>\n",
       "      <th>x149</th>\n",
       "    </tr>\n",
       "  </thead>\n",
       "  <tbody>\n",
       "    <tr>\n",
       "      <th>0</th>\n",
       "      <td>-0.910817</td>\n",
       "      <td>1.568091</td>\n",
       "      <td>1.498265</td>\n",
       "      <td>1.438105</td>\n",
       "      <td>1.388085</td>\n",
       "      <td>1.343536</td>\n",
       "      <td>1.292444</td>\n",
       "      <td>1.267210</td>\n",
       "      <td>1.243924</td>\n",
       "      <td>1.231373</td>\n",
       "      <td>...</td>\n",
       "      <td>1.000000</td>\n",
       "      <td>1.000000</td>\n",
       "      <td>1.000000</td>\n",
       "      <td>1.000000</td>\n",
       "      <td>1.000000</td>\n",
       "      <td>1.000000</td>\n",
       "      <td>1.000000</td>\n",
       "      <td>1.000000</td>\n",
       "      <td>1.000000</td>\n",
       "      <td>1.0</td>\n",
       "    </tr>\n",
       "    <tr>\n",
       "      <th>1</th>\n",
       "      <td>-1.756389</td>\n",
       "      <td>1.305542</td>\n",
       "      <td>1.363098</td>\n",
       "      <td>1.398336</td>\n",
       "      <td>1.413818</td>\n",
       "      <td>1.417374</td>\n",
       "      <td>1.410475</td>\n",
       "      <td>1.395964</td>\n",
       "      <td>1.375702</td>\n",
       "      <td>1.348232</td>\n",
       "      <td>...</td>\n",
       "      <td>1.000499</td>\n",
       "      <td>1.000499</td>\n",
       "      <td>1.000499</td>\n",
       "      <td>1.000499</td>\n",
       "      <td>1.000499</td>\n",
       "      <td>1.000499</td>\n",
       "      <td>1.000499</td>\n",
       "      <td>1.000499</td>\n",
       "      <td>1.000499</td>\n",
       "      <td>1.0</td>\n",
       "    </tr>\n",
       "    <tr>\n",
       "      <th>2</th>\n",
       "      <td>-2.601960</td>\n",
       "      <td>0.362707</td>\n",
       "      <td>0.486236</td>\n",
       "      <td>0.611287</td>\n",
       "      <td>0.732886</td>\n",
       "      <td>0.825571</td>\n",
       "      <td>0.899197</td>\n",
       "      <td>0.953618</td>\n",
       "      <td>0.999612</td>\n",
       "      <td>1.043559</td>\n",
       "      <td>...</td>\n",
       "      <td>1.000000</td>\n",
       "      <td>1.000000</td>\n",
       "      <td>1.000000</td>\n",
       "      <td>1.000000</td>\n",
       "      <td>1.000000</td>\n",
       "      <td>1.000000</td>\n",
       "      <td>1.000000</td>\n",
       "      <td>1.000000</td>\n",
       "      <td>1.000000</td>\n",
       "      <td>1.0</td>\n",
       "    </tr>\n",
       "    <tr>\n",
       "      <th>3</th>\n",
       "      <td>-3.447532</td>\n",
       "      <td>0.407308</td>\n",
       "      <td>0.478030</td>\n",
       "      <td>0.541600</td>\n",
       "      <td>0.608240</td>\n",
       "      <td>0.663092</td>\n",
       "      <td>0.711575</td>\n",
       "      <td>0.744088</td>\n",
       "      <td>0.772719</td>\n",
       "      <td>0.805188</td>\n",
       "      <td>...</td>\n",
       "      <td>1.000000</td>\n",
       "      <td>1.000000</td>\n",
       "      <td>1.000000</td>\n",
       "      <td>1.000000</td>\n",
       "      <td>1.000000</td>\n",
       "      <td>1.000000</td>\n",
       "      <td>1.000000</td>\n",
       "      <td>1.000000</td>\n",
       "      <td>1.000000</td>\n",
       "      <td>1.0</td>\n",
       "    </tr>\n",
       "  </tbody>\n",
       "</table>\n",
       "<p>4 rows × 151 columns</p>\n",
       "</div>"
      ],
      "text/plain": [
       "          k        x0        x1        x2        x3        x4        x5  \\\n",
       "0 -0.910817  1.568091  1.498265  1.438105  1.388085  1.343536  1.292444   \n",
       "1 -1.756389  1.305542  1.363098  1.398336  1.413818  1.417374  1.410475   \n",
       "2 -2.601960  0.362707  0.486236  0.611287  0.732886  0.825571  0.899197   \n",
       "3 -3.447532  0.407308  0.478030  0.541600  0.608240  0.663092  0.711575   \n",
       "\n",
       "         x6        x7        x8  ...      x140      x141      x142      x143  \\\n",
       "0  1.267210  1.243924  1.231373  ...  1.000000  1.000000  1.000000  1.000000   \n",
       "1  1.395964  1.375702  1.348232  ...  1.000499  1.000499  1.000499  1.000499   \n",
       "2  0.953618  0.999612  1.043559  ...  1.000000  1.000000  1.000000  1.000000   \n",
       "3  0.744088  0.772719  0.805188  ...  1.000000  1.000000  1.000000  1.000000   \n",
       "\n",
       "       x144      x145      x146      x147      x148  x149  \n",
       "0  1.000000  1.000000  1.000000  1.000000  1.000000   1.0  \n",
       "1  1.000499  1.000499  1.000499  1.000499  1.000499   1.0  \n",
       "2  1.000000  1.000000  1.000000  1.000000  1.000000   1.0  \n",
       "3  1.000000  1.000000  1.000000  1.000000  1.000000   1.0  \n",
       "\n",
       "[4 rows x 151 columns]"
      ]
     },
     "execution_count": 14,
     "metadata": {},
     "output_type": "execute_result"
    }
   ],
   "source": [
    "k_values=df.k_.unique()\n",
    "print('\\n',len(k_values))\n",
    "\n",
    "for index_k, k in enumerate(k_values):\n",
    "    \n",
    "    if k != 0.01 and k != 0.1:\n",
    "        slope_values = df[(df['k_']==k)]['c'].values.tolist()\n",
    "        row = [k]\n",
    "        for index_c, current in enumerate(slope_values):\n",
    "            row.extend([slope_values[index_c]])\n",
    "\n",
    "        row_df = pd.DataFrame([row], columns=column_names)\n",
    "\n",
    "        if index_k == 0:\n",
    "            final_df = row_df\n",
    "        else:\n",
    "            final_df = final_df.append(row_df)\n",
    "\n",
    "final_df = final_df.reset_index(drop = True)\n",
    "final_df"
   ]
  },
  {
   "cell_type": "code",
   "execution_count": 15,
   "metadata": {},
   "outputs": [
    {
     "data": {
      "text/plain": [
       "0   -0.910817\n",
       "1   -1.756389\n",
       "2   -2.601960\n",
       "3   -3.447532\n",
       "Name: k, dtype: float64"
      ]
     },
     "execution_count": 15,
     "metadata": {},
     "output_type": "execute_result"
    }
   ],
   "source": [
    "test_dataset = final_df\n",
    "\n",
    "y_test_k = test_dataset.pop('k')\n",
    "\n",
    "train_stats = train_dataset.describe()\n",
    "train_stats = train_stats.transpose()\n",
    "\n",
    "test_stats = test_dataset.describe()\n",
    "test_stats = test_stats.transpose()\n",
    "\n",
    "# final_df.loc[:, 'k':'x20']\n",
    "y_test_k"
   ]
  },
  {
   "cell_type": "code",
   "execution_count": 16,
   "metadata": {},
   "outputs": [],
   "source": [
    "def norm(x):\n",
    "    return(x-train_stats['mean']) / train_stats['std'] #standardize\n",
    "#     return(x-train_stats['min']) / (train_stats['max'] -  train_stats['min']) #normalize\n",
    "\n",
    "normed_test_data = norm(test_dataset)"
   ]
  },
  {
   "cell_type": "markdown",
   "metadata": {},
   "source": [
    "# Testing the experimental data"
   ]
  },
  {
   "cell_type": "code",
   "execution_count": 17,
   "metadata": {
    "scrolled": false
   },
   "outputs": [
    {
     "name": "stdout",
     "output_type": "stream",
     "text": [
      "WARNING:tensorflow:Falling back from v2 loop because of error: Failed to find data adapter that can handle input: <class 'pandas.core.frame.DataFrame'>, <class 'NoneType'>\n"
     ]
    },
    {
     "data": {
      "text/plain": [
       "<Figure size 432x288 with 0 Axes>"
      ]
     },
     "metadata": {},
     "output_type": "display_data"
    },
    {
     "data": {
      "image/png": "[encoded data removed]",
      "text/plain": [
       "<Figure size 570x380 with 1 Axes>"
      ]
     },
     "metadata": {
      "needs_background": "light"
     },
     "output_type": "display_data"
    },
    {
     "data": {
      "text/plain": [
       "<Figure size 432x288 with 0 Axes>"
      ]
     },
     "metadata": {},
     "output_type": "display_data"
    },
    {
     "data": {
      "image/png": "[encoded data removed]",
      "text/plain": [
       "<Figure size 570x380 with 1 Axes>"
      ]
     },
     "metadata": {
      "needs_background": "light"
     },
     "output_type": "display_data"
    }
   ],
   "source": [
    "import matplotlib.pyplot as plt\n",
    "\n",
    "def plot_history(history):\n",
    "    hist = pd.DataFrame(history.history)\n",
    "    hist['epoch']=history.epoch\n",
    "    \n",
    "    plt.figure()\n",
    "    plt.figure(figsize=(3, 2), dpi = 190)\n",
    "    plt.rc('text', usetex=True)\n",
    "    plt.rc('font', family = 'serif')\n",
    "    plt.xlabel('Epoch', fontsize=8)\n",
    "    plt.ylabel('Mean Abs Error [log$_{10}(\\it{k})$]', fontsize=8)\n",
    "    plt.plot(hist['epoch'], hist['mae'],\n",
    "             label = 'Train Error', c = 'blue', linewidth=1)\n",
    "    plt.plot(hist['epoch'], hist['val_mae'],\n",
    "             label = 'Val Error', c = 'red', linewidth=1)\n",
    "    plt.legend(prop={'size': 8})\n",
    "    plt.tick_params(direction = \"in\", width = 0.3, labelsize=8)\n",
    "    plt.ylim([0,1.7])\n",
    "    \n",
    "    plt.figure()\n",
    "    plt.figure(figsize=(3, 2), dpi = 190)\n",
    "    plt.rc('text', usetex=True)\n",
    "    plt.rc('font', family = 'serif')\n",
    "    plt.xlabel('Epoch', fontsize=8)\n",
    "    plt.ylabel('Mean Square Error [log$_{10}(\\it{k})$$^2$]', fontsize=8)\n",
    "    plt.plot(hist['epoch'], hist['mse'],\n",
    "            label='Train Error', c = 'blue', linewidth=1)\n",
    "    plt.plot(hist['epoch'], hist['val_mse'],\n",
    "            label = 'Val Error', c = 'red', linewidth=1)\n",
    "    plt.legend(prop={'size': 8})\n",
    "    plt.tick_params(direction = \"in\", width = 0.3, labelsize=8)\n",
    "    plt.ylim([-0.5,4])\n",
    "    \n",
    "    \n",
    "plot_history(history)\n",
    "\n",
    "loss, mae, mse = model.evaluate(normed_test_data, y_test_k, verbose=0)"
   ]
  },
  {
   "cell_type": "code",
   "execution_count": 23,
   "metadata": {},
   "outputs": [
    {
     "name": "stdout",
     "output_type": "stream",
     "text": [
      "WARNING:tensorflow:Falling back from v2 loop because of error: Failed to find data adapter that can handle input: <class 'pandas.core.frame.DataFrame'>, <class 'NoneType'>\n",
      "Testing set Mean Abs Error:  4.72 k\n",
      "Testing set Mean Squared Error: 28.61 k\n",
      "Testing set loss: 28.61 k\n"
     ]
    },
    {
     "data": {
      "text/plain": [
       "<Figure size 432x288 with 0 Axes>"
      ]
     },
     "metadata": {},
     "output_type": "display_data"
    },
    {
     "data": {
      "image/png": "[encoded data removed]",
      "text/plain": [
       "<Figure size 570x380 with 1 Axes>"
      ]
     },
     "metadata": {
      "needs_background": "light"
     },
     "output_type": "display_data"
    }
   ],
   "source": [
    "test_predictions = model.predict(normed_test_data).flatten()\n",
    "\n",
    "plt.figure()\n",
    "plt.figure(figsize=(3, 2), dpi = 190)\n",
    "plt.scatter(y_test_k, test_predictions, c = crimson, s=5)\n",
    "plt.rc('text', usetex=True)\n",
    "plt.rc('font', family = 'serif')\n",
    "plt.xlabel(r'True Values [log$_{10}(\\it{k})$]', fontsize=8)\n",
    "plt.ylabel(r'Predictions [log$_{10}(\\it{k})$]', fontsize=8)\n",
    "plt.tick_params(direction = \"in\", width = 0.3, labelsize=8)\n",
    "_ = plt.plot([0, -5], [0, -5], c = 'blue')\n",
    "\n",
    "print('Testing set Mean Abs Error: {:5.2f} k'.format(mae))\n",
    "print('Testing set Mean Squared Error: {:5.2f} k'.format(mse))\n",
    "print('Testing set loss: {:5.2f} k'.format(loss))"
   ]
  },
  {
   "cell_type": "markdown",
   "metadata": {},
   "source": [
    "\n",
    "### With early stopping"
   ]
  },
  {
   "cell_type": "code",
   "execution_count": 19,
   "metadata": {},
   "outputs": [],
   "source": [
    "# model = build_model()\n",
    "\n",
    "# early_stop = keras.callbacks.EarlyStopping(monitor='val_loss', patience=5)\n",
    "\n",
    "# history = model.fit(normed_train_data, y_train_k, epochs=EPOCHS,\n",
    "#                    validation_split = 0.2, verbose=0, callbacks=[early_stop, PrintDot()])\n",
    "\n",
    "# plot_history(history)\n",
    "\n",
    "# loss, mae, mse = model.evaluate(normed_test_data, y_test_k, verbose=0)"
   ]
  },
  {
   "cell_type": "code",
   "execution_count": 20,
   "metadata": {},
   "outputs": [],
   "source": [
    "# test_predictions = model.predict(normed_test_data).flatten()\n",
    "\n",
    "# plt.scatter(y_test_k, test_predictions)\n",
    "# plt.xlabel('True Values [k]')\n",
    "# plt.ylabel('Predictions [k]')\n",
    "# # plt.axis('equal')\n",
    "# # plt.axis('square')\n",
    "# # plt.xlim([-10, plt.xlim()[3]])\n",
    "# # plt.ylim([-10, plt.ylim()[3]])\n",
    "# _ = plt.plot([0, -8], [0, -8])\n",
    "\n",
    "# print('Testing set Mean Abs Error: {:5.2f} k'.format(mae))\n",
    "# print('Testing set Mean Squared Error: {:5.2f} k'.format(mse))\n",
    "# print('Testing set loss: {:5.2f} k'.format(loss))"
   ]
  },
  {
   "cell_type": "code",
   "execution_count": 21,
   "metadata": {},
   "outputs": [],
   "source": [
    "# error = test_predictions-y_test_k\n",
    "# plt.hist(error, bins = 10)\n",
    "# plt.xlabel('Prediction Error [k]')\n",
    "# _ = plt.ylabel('Count')"
   ]
  }
 ],
 "metadata": {
  "kernelspec": {
   "display_name": "NRT",
   "language": "python",
   "name": "nrt"
  },
  "language_info": {
   "codemirror_mode": {
    "name": "ipython",
    "version": 3
   },
   "file_extension": ".py",
   "mimetype": "text/x-python",
   "name": "python",
   "nbconvert_exporter": "python",
   "pygments_lexer": "ipython3",
   "version": "3.7.7"
  }
 },
 "nbformat": 4,
 "nbformat_minor": 4
}
